{
 "cells": [
  {
   "cell_type": "markdown",
   "id": "8a9c4fe4-f663-48ff-9289-c5d841e57311",
   "metadata": {},
   "source": [
    "\n",
    "<div style=\"background-color: #8FC93A; padding: 20px; border-radius: 8px; text-align: center; margin-top: 10px; margin-bottom: 10px;\">\n",
    "    <h1 style=\"color: white; margin: 0;\">Recommender Systems</h1>\n"
   ]
  },
  {
   "cell_type": "markdown",
   "id": "8bfa1de4-42d2-467f-af42-7bc51801f7bd",
   "metadata": {},
   "source": [
    "<div style=\"background-color: #006B3F; padding: 10px; border-radius: 8px; text-align: center; margin-top: 10px; margin-bottom: 10px;\">\n",
    "    <h1 style=\"color: white; margin: 0;\">Recheio Cash & Carry</h1>\n",
    "</div>"
   ]
  },
  {
   "cell_type": "markdown",
   "id": "2d47ab94-490c-44f2-88a1-fc3f54ff6f23",
   "metadata": {},
   "source": [
    "GROUP NUMBER: **M** \n",
    "\n",
    "GROUP MEMBERS:\n",
    "\n",
    "|STUDENT NAME|STUDENT NUMBER|\n",
    "|---|---|\n",
    "|Leonor Wanzeller|20240586|\n",
    "|Maria Pereira|20240314|\n",
    "|Maria Francisca Fialho|20240346|\n",
    "|Miguel Mangerona|20240595|´\n",
    "|Rita Coelho Morgadito|20240611 |"
   ]
  },
  {
   "cell_type": "markdown",
   "id": "87498a95-3bd5-4963-8a9f-e06f4466fc53",
   "metadata": {},
   "source": [
    "## Dataset description\n",
    "This dataset is related to Client information from Recheio\n",
    "\n",
    "#### Clients\n",
    "- **Client ID**\n",
    "- **ZIP Code**\n",
    "- **ID Client Type**\n",
    "\n",
    "#### Products\n",
    "- **ID Product**\n",
    "- **Product Description**\n",
    "- **ID Product Category**\n",
    "\n",
    "#### Transactions\n",
    "\n",
    "- **Date**\n",
    "- **Client ID**\n",
    "- **ID Product**\n"
   ]
  },
  {
   "cell_type": "code",
   "execution_count": 1,
   "id": "0fe14a5b-5a9e-4c9b-b8bb-2b3361a5db6d",
   "metadata": {},
   "outputs": [],
   "source": [
    "# Packages\n",
    "import os\n",
    "import numpy as np\n",
    "import pandas as pd\n",
    "import matplotlib.pyplot as plt\n",
    "from matplotlib import ticker\n",
    "import seaborn as sns\n",
    "import joypy\n",
    "import category_encoders as ce\n",
    "import collections\n",
    "from sklearn.impute import SimpleImputer, KNNImputer\n",
    "from sklearn import preprocessing\n",
    "from sklearn.cluster import KMeans\n",
    "from sklearn.decomposition import PCA\n",
    "from sklearn.metrics import silhouette_score\n",
    "from yellowbrick.cluster import KElbowVisualizer\n",
    "from yellowbrick.cluster import SilhouetteVisualizer\n",
    "from yellowbrick.cluster import InterclusterDistance\n",
    "from matplotlib.ticker import FuncFormatter\n",
    "from scipy.stats.mstats import winsorize\n",
    "from scipy.cluster.hierarchy import linkage\n",
    "from scipy.cluster.hierarchy import dendrogram\n",
    "import plotly.express as px\n",
    "import pycountry\n",
    "import pycountry_convert as pc\n",
    "from sklearn.impute import KNNImputer\n",
    "from sklearn.preprocessing import LabelEncoder\n",
    "from sklearn.preprocessing import StandardScaler\n",
    "from sklearn.preprocessing import MinMaxScaler\n",
    "import fastcluster\n",
    "\n",
    "\n",
    "pd.set_option('display.max_columns', None)"
   ]
  },
  {
   "cell_type": "code",
   "execution_count": 6,
   "id": "aedb762d-44f5-4ce6-9713-6ac21c687ae2",
   "metadata": {},
   "outputs": [],
   "source": [
    "## pip install pgeocode\n"
   ]
  },
  {
   "cell_type": "code",
   "execution_count": 7,
   "id": "ee744521-4c6c-4d08-a78e-cfd2bfa86e9b",
   "metadata": {},
   "outputs": [],
   "source": [
    "from pgeocode import GeoDistance"
   ]
  },
  {
   "cell_type": "code",
   "execution_count": 2,
   "id": "e52698bc-948a-43cc-96ce-cc2a5d637b9e",
   "metadata": {},
   "outputs": [],
   "source": [
    "import warnings\n",
    "warnings.simplefilter(action='ignore', category=FutureWarning)\n",
    "warnings.simplefilter(action='ignore', category=UserWarning)\n"
   ]
  },
  {
   "cell_type": "code",
   "execution_count": 3,
   "id": "873cd11e-4dc2-48d9-af01-2733c9fdae70",
   "metadata": {},
   "outputs": [],
   "source": [
    "# We compose a pallete to use in the vizualizations\n",
    "pal = [\n",
    "    \"#006B3F\",  # Dark Green\n",
    "    \"#8FC93A\",  # Light Green\n",
    "    \"#1D1D1B\",  # Black\n",
    "    \"#FFFFFF\",  # White\n",
    "    \"#D9D9D9\"   # Light Grey\n",
    "]\n"
   ]
  },
  {
   "cell_type": "markdown",
   "id": "29631e04-7400-4fef-9bb2-9c01f2ecc05e",
   "metadata": {},
   "source": [
    "<a id = \"Index\"></a>\n",
    "\n",
    "<div style=\"background-color:#8FC93A; padding: 10px; border-radius: 8px; text-align: center; margin-top: 20px; margin-bottom: 20px;\">\n",
    "    <h1 style=\"color: white; margin: 0;\">Index</h1>\n",
    "</div>\n",
    "\n",
    "1. [Data Understanding](#Data-Understanding)\n",
    "2. [Data Preparation](#Data-Preparation)\n",
    "3. [Feature Selection](#Feature-Selection)\n",
    "4. [Scaling](#Scaling)\n",
    "5. [Clustering](#Clustering)"
   ]
  },
  {
   "cell_type": "markdown",
   "id": "667b47f7-39f1-487b-a8d4-abf82825756a",
   "metadata": {},
   "source": [
    "<a id = \"Data-Understanding\"></a>\n",
    "    \n",
    "<div style=\"background-color: #8FC93A; padding: 10px; border-radius: 8px; text-align: center; margin-top: 20px; margin-bottom: 20px;\">\n",
    "    <h1 style=\"color: white; margin: 0;\">Data Understanding</h1>\n",
    "</div>\n",
    "\n",
    "[1.1 Data Loading and Description](#Data-Load)\n",
    "\n",
    "[1.2 Data Visualization](#Data-Vizualization)\n"
   ]
  },
  {
   "cell_type": "markdown",
   "id": "9827b848-5a91-468a-ae93-c14406743001",
   "metadata": {},
   "source": [
    "<a id = \"Data-Load\"></a>\n",
    "\n",
    "<div style=\"background-color: #006B3F; padding: 10px; border-radius: 8px; text-align: center; margin-top: 20px; margin-bottom: 20px;\">\n",
    "    <h3 style=\"color: white; margin: 0;\">1.2. Data Loading and Description </h3>\n",
    "</div>\n",
    "\n",
    "- [Data Shape](#ds)\n",
    "- [Data Types](#dt)\n",
    "- [Summary Statistics](#ss)\n",
    "\n",
    "[Back to Index](#Index)"
   ]
  },
  {
   "cell_type": "code",
   "execution_count": 31,
   "id": "fce36810-0ae5-4932-8630-defe9d415e09",
   "metadata": {},
   "outputs": [],
   "source": [
    "excel_file= \"Case3_Recheio_2025.xlsx\""
   ]
  },
  {
   "cell_type": "code",
   "execution_count": 35,
   "id": "417bbe80-ac8a-4a55-9426-6751b7afe4ad",
   "metadata": {},
   "outputs": [],
   "source": [
    "clients_df = pd.read_excel(excel_file, sheet_name='1. CLIENTS')\n",
    "products_df = pd.read_excel(excel_file, sheet_name='2. PRODUCTS')\n",
    "transactions_df = pd.read_excel(excel_file, sheet_name='3. TRANSACTIONS')"
   ]
  },
  {
   "cell_type": "markdown",
   "id": "a31d9277-b89d-4a91-a111-ff548911cde7",
   "metadata": {},
   "source": [
    "<div style=\"background-color: #1D1D1B; padding: 10px; border-radius: 8px; text-align: center; margin-top: 20px; margin-bottom: 20px;\">\n",
    "    <h2 style=\"color: white; margin: 0;\">Clients</h2>\n",
    "</div>"
   ]
  },
  {
   "cell_type": "code",
   "execution_count": 36,
   "id": "ce2a343b-8349-40ab-aa72-09e9a242c513",
   "metadata": {},
   "outputs": [
    {
     "data": {
      "text/html": [
       "<div>\n",
       "<style scoped>\n",
       "    .dataframe tbody tr th:only-of-type {\n",
       "        vertical-align: middle;\n",
       "    }\n",
       "\n",
       "    .dataframe tbody tr th {\n",
       "        vertical-align: top;\n",
       "    }\n",
       "\n",
       "    .dataframe thead th {\n",
       "        text-align: right;\n",
       "    }\n",
       "</style>\n",
       "<table border=\"1\" class=\"dataframe\">\n",
       "  <thead>\n",
       "    <tr style=\"text-align: right;\">\n",
       "      <th></th>\n",
       "      <th>Unnamed: 0</th>\n",
       "      <th>Unnamed: 1</th>\n",
       "      <th>Unnamed: 2</th>\n",
       "      <th>Unnamed: 3</th>\n",
       "    </tr>\n",
       "  </thead>\n",
       "  <tbody>\n",
       "    <tr>\n",
       "      <th>0</th>\n",
       "      <td>NaN</td>\n",
       "      <td>Client ID</td>\n",
       "      <td>ZIP Code</td>\n",
       "      <td>ID Client Type</td>\n",
       "    </tr>\n",
       "    <tr>\n",
       "      <th>1</th>\n",
       "      <td>NaN</td>\n",
       "      <td>210100002</td>\n",
       "      <td>4049</td>\n",
       "      <td>NaN</td>\n",
       "    </tr>\n",
       "    <tr>\n",
       "      <th>2</th>\n",
       "      <td>NaN</td>\n",
       "      <td>210100003</td>\n",
       "      <td>4000</td>\n",
       "      <td>NaN</td>\n",
       "    </tr>\n",
       "    <tr>\n",
       "      <th>3</th>\n",
       "      <td>NaN</td>\n",
       "      <td>210100004</td>\n",
       "      <td>4149</td>\n",
       "      <td>NaN</td>\n",
       "    </tr>\n",
       "    <tr>\n",
       "      <th>4</th>\n",
       "      <td>NaN</td>\n",
       "      <td>210100005</td>\n",
       "      <td>4100</td>\n",
       "      <td>Hotelaria</td>\n",
       "    </tr>\n",
       "  </tbody>\n",
       "</table>\n",
       "</div>"
      ],
      "text/plain": [
       "   Unnamed: 0 Unnamed: 1 Unnamed: 2      Unnamed: 3\n",
       "0         NaN  Client ID   ZIP Code  ID Client Type\n",
       "1         NaN  210100002       4049             NaN\n",
       "2         NaN  210100003       4000             NaN\n",
       "3         NaN  210100004       4149             NaN\n",
       "4         NaN  210100005       4100       Hotelaria"
      ]
     },
     "execution_count": 36,
     "metadata": {},
     "output_type": "execute_result"
    }
   ],
   "source": [
    "clients_df.head()"
   ]
  },
  {
   "cell_type": "markdown",
   "id": "b09f2992-78dd-4626-89ea-33146baae6d6",
   "metadata": {},
   "source": [
    "+ We can eliminate the first tow\n",
    "+ Check if the first column contains values otherwise we can eliminate it too"
   ]
  },
  {
   "cell_type": "code",
   "execution_count": 130,
   "id": "5ab9a7c6-7915-485c-809c-bbc2526ec9c0",
   "metadata": {},
   "outputs": [],
   "source": [
    "clients_df.columns = clients_df.iloc[0]  # Defining the firts row names as the column names\n",
    "clients_df = clients_df[1:].reset_index(drop=True) # eliminate the row with the previous column names"
   ]
  },
  {
   "cell_type": "code",
   "execution_count": 132,
   "id": "35cc8147-3f51-4ced-b467-0f2c0262f47c",
   "metadata": {},
   "outputs": [
    {
     "data": {
      "text/html": [
       "<div>\n",
       "<style scoped>\n",
       "    .dataframe tbody tr th:only-of-type {\n",
       "        vertical-align: middle;\n",
       "    }\n",
       "\n",
       "    .dataframe tbody tr th {\n",
       "        vertical-align: top;\n",
       "    }\n",
       "\n",
       "    .dataframe thead th {\n",
       "        text-align: right;\n",
       "    }\n",
       "</style>\n",
       "<table border=\"1\" class=\"dataframe\">\n",
       "  <thead>\n",
       "    <tr style=\"text-align: right;\">\n",
       "      <th></th>\n",
       "      <th>Client ID</th>\n",
       "      <th>ZIP Code</th>\n",
       "      <th>ID Client Type</th>\n",
       "    </tr>\n",
       "  </thead>\n",
       "  <tbody>\n",
       "    <tr>\n",
       "      <th>0</th>\n",
       "      <td>210100002</td>\n",
       "      <td>4049</td>\n",
       "      <td>NaN</td>\n",
       "    </tr>\n",
       "    <tr>\n",
       "      <th>1</th>\n",
       "      <td>210100003</td>\n",
       "      <td>4000</td>\n",
       "      <td>NaN</td>\n",
       "    </tr>\n",
       "    <tr>\n",
       "      <th>2</th>\n",
       "      <td>210100004</td>\n",
       "      <td>4149</td>\n",
       "      <td>NaN</td>\n",
       "    </tr>\n",
       "    <tr>\n",
       "      <th>3</th>\n",
       "      <td>210100005</td>\n",
       "      <td>4100</td>\n",
       "      <td>Hotelaria</td>\n",
       "    </tr>\n",
       "    <tr>\n",
       "      <th>4</th>\n",
       "      <td>210100006</td>\n",
       "      <td>4405</td>\n",
       "      <td>NaN</td>\n",
       "    </tr>\n",
       "  </tbody>\n",
       "</table>\n",
       "</div>"
      ],
      "text/plain": [
       "0  Client ID ZIP Code ID Client Type\n",
       "0  210100002     4049            NaN\n",
       "1  210100003     4000            NaN\n",
       "2  210100004     4149            NaN\n",
       "3  210100005     4100      Hotelaria\n",
       "4  210100006     4405            NaN"
      ]
     },
     "execution_count": 132,
     "metadata": {},
     "output_type": "execute_result"
    }
   ],
   "source": [
    "clients_df.head()"
   ]
  },
  {
   "cell_type": "markdown",
   "id": "7a94fba7-a2e1-4b77-a81e-80de0933a671",
   "metadata": {},
   "source": [
    "<a id = \"ds\"></a>\n",
    "\n",
    "<div style=\"background-color: #006B3F; padding: 10px; border-radius: 8px; text-align: center; margin-top: 20px; margin-bottom: 20px;\">\n",
    "    <h4 style=\"color: white; margin: 0;\">Data Shape</h4>\n",
    "</div>"
   ]
  },
  {
   "cell_type": "code",
   "execution_count": 134,
   "id": "6fe83e23-2ccf-49e7-a5f5-42e79b250e4f",
   "metadata": {},
   "outputs": [
    {
     "data": {
      "text/plain": [
       "(6462, 3)"
      ]
     },
     "execution_count": 134,
     "metadata": {},
     "output_type": "execute_result"
    }
   ],
   "source": [
    "# Shape (no rows,no columns)\n",
    "clients_df.shape"
   ]
  },
  {
   "cell_type": "markdown",
   "id": "443bd189-459d-4ef2-a603-ff91df9d30da",
   "metadata": {},
   "source": [
    "+ The dataset has 6462 rows and 4 columns"
   ]
  },
  {
   "cell_type": "code",
   "execution_count": 136,
   "id": "e2be36f8-7057-4a50-ac6d-8c87ddb98299",
   "metadata": {},
   "outputs": [
    {
     "data": {
      "text/plain": [
       "0\n",
       "Client ID            0\n",
       "ZIP Code             0\n",
       "ID Client Type    5782\n",
       "dtype: int64"
      ]
     },
     "execution_count": 136,
     "metadata": {},
     "output_type": "execute_result"
    }
   ],
   "source": [
    "# Missing Values\n",
    "clients_df.isna().sum()"
   ]
  },
  {
   "cell_type": "markdown",
   "id": "7073d01d-4286-4803-a54d-95db288c49c8",
   "metadata": {},
   "source": [
    "+ Once the first column only contains Nan values, we can exclude it"
   ]
  },
  {
   "cell_type": "code",
   "execution_count": 138,
   "id": "d6254875-8ff0-4dac-aba9-0777283dca57",
   "metadata": {},
   "outputs": [],
   "source": [
    "# Exclude the first column\n",
    "clients_df = clients_df.iloc[:, 1:]\n"
   ]
  },
  {
   "cell_type": "code",
   "execution_count": 140,
   "id": "dcf146c0-5800-41b8-b880-8132ab586d1a",
   "metadata": {},
   "outputs": [
    {
     "data": {
      "text/html": [
       "<div>\n",
       "<style scoped>\n",
       "    .dataframe tbody tr th:only-of-type {\n",
       "        vertical-align: middle;\n",
       "    }\n",
       "\n",
       "    .dataframe tbody tr th {\n",
       "        vertical-align: top;\n",
       "    }\n",
       "\n",
       "    .dataframe thead th {\n",
       "        text-align: right;\n",
       "    }\n",
       "</style>\n",
       "<table border=\"1\" class=\"dataframe\">\n",
       "  <thead>\n",
       "    <tr style=\"text-align: right;\">\n",
       "      <th></th>\n",
       "      <th>Client ID</th>\n",
       "      <th>ZIP Code</th>\n",
       "      <th>ID Client Type</th>\n",
       "      <th>Region</th>\n",
       "    </tr>\n",
       "  </thead>\n",
       "  <tbody>\n",
       "    <tr>\n",
       "      <th>0</th>\n",
       "      <td>210100002</td>\n",
       "      <td>4049</td>\n",
       "      <td>NaN</td>\n",
       "      <td>Porto</td>\n",
       "    </tr>\n",
       "    <tr>\n",
       "      <th>1</th>\n",
       "      <td>210100003</td>\n",
       "      <td>4000</td>\n",
       "      <td>NaN</td>\n",
       "      <td>Porto</td>\n",
       "    </tr>\n",
       "    <tr>\n",
       "      <th>2</th>\n",
       "      <td>210100004</td>\n",
       "      <td>4149</td>\n",
       "      <td>NaN</td>\n",
       "      <td>Porto</td>\n",
       "    </tr>\n",
       "  </tbody>\n",
       "</table>\n",
       "</div>"
      ],
      "text/plain": [
       "0  Client ID ZIP Code ID Client Type Region\n",
       "0  210100002     4049            NaN  Porto\n",
       "1  210100003     4000            NaN  Porto\n",
       "2  210100004     4149            NaN  Porto"
      ]
     },
     "execution_count": 140,
     "metadata": {},
     "output_type": "execute_result"
    }
   ],
   "source": [
    "df.head(3)"
   ]
  },
  {
   "cell_type": "code",
   "execution_count": 142,
   "id": "afc34d5b-8f2b-4ac1-afe3-c1aa522113f8",
   "metadata": {},
   "outputs": [],
   "source": [
    "# doing a copy of the dataframe cleaned\n",
    "clients_df_copy = clients_df.copy()"
   ]
  },
  {
   "cell_type": "markdown",
   "id": "ec70e79c-e21e-4092-909f-57b27728ddaa",
   "metadata": {},
   "source": [
    "<a id = \"dt\"></a>\n",
    "\n",
    "<div style=\"background-color: #006B3F; padding: 10px; border-radius: 8px; text-align: center; margin-top: 20px; margin-bottom: 20px;\">\n",
    "    <h4 style=\"color: white; margin: 0;\">Data Types</h4>\n",
    "</div>\n"
   ]
  },
  {
   "cell_type": "code",
   "execution_count": 19,
   "id": "4519e738-bc80-4184-bb2d-b9813ffac521",
   "metadata": {},
   "outputs": [
    {
     "name": "stdout",
     "output_type": "stream",
     "text": [
      "<class 'pandas.core.frame.DataFrame'>\n",
      "RangeIndex: 6462 entries, 0 to 6461\n",
      "Data columns (total 3 columns):\n",
      " #   Column          Non-Null Count  Dtype \n",
      "---  ------          --------------  ----- \n",
      " 0   Client ID       6462 non-null   object\n",
      " 1   ZIP Code        6462 non-null   object\n",
      " 2   ID Client Type  680 non-null    object\n",
      "dtypes: object(3)\n",
      "memory usage: 151.6+ KB\n"
     ]
    }
   ],
   "source": [
    "clients_df.info()\n"
   ]
  },
  {
   "cell_type": "markdown",
   "id": "852d3dd4-1da1-40f7-8d2d-b8e0ffee60c2",
   "metadata": {},
   "source": [
    "All the existing columns are categorical and there are no missing values "
   ]
  },
  {
   "cell_type": "markdown",
   "id": "04ecf68e-0a87-4a29-99aa-39440dacf8e2",
   "metadata": {},
   "source": [
    "<a id = \"ss\"></a>\n",
    "\n",
    "<div style=\"background-color: #006B3F; padding: 10px; border-radius: 8px; text-align: center; margin-top: 20px; margin-bottom: 20px;\">\n",
    "    <h4 style=\"color: white; margin: 0;\">Summary Statistics</h4>\n",
    "</div>"
   ]
  },
  {
   "cell_type": "code",
   "execution_count": 21,
   "id": "c9ace17b-2687-4f75-801c-9a5a6d547c91",
   "metadata": {},
   "outputs": [
    {
     "data": {
      "text/html": [
       "<div>\n",
       "<style scoped>\n",
       "    .dataframe tbody tr th:only-of-type {\n",
       "        vertical-align: middle;\n",
       "    }\n",
       "\n",
       "    .dataframe tbody tr th {\n",
       "        vertical-align: top;\n",
       "    }\n",
       "\n",
       "    .dataframe thead th {\n",
       "        text-align: right;\n",
       "    }\n",
       "</style>\n",
       "<table border=\"1\" class=\"dataframe\">\n",
       "  <thead>\n",
       "    <tr style=\"text-align: right;\">\n",
       "      <th></th>\n",
       "      <th>count</th>\n",
       "      <th>unique</th>\n",
       "      <th>top</th>\n",
       "      <th>freq</th>\n",
       "    </tr>\n",
       "    <tr>\n",
       "      <th>0</th>\n",
       "      <th></th>\n",
       "      <th></th>\n",
       "      <th></th>\n",
       "      <th></th>\n",
       "    </tr>\n",
       "  </thead>\n",
       "  <tbody>\n",
       "    <tr>\n",
       "      <th>Client ID</th>\n",
       "      <td>6462</td>\n",
       "      <td>6462</td>\n",
       "      <td>210100002</td>\n",
       "      <td>1</td>\n",
       "    </tr>\n",
       "    <tr>\n",
       "      <th>ZIP Code</th>\n",
       "      <td>6462</td>\n",
       "      <td>261</td>\n",
       "      <td>4050</td>\n",
       "      <td>927</td>\n",
       "    </tr>\n",
       "    <tr>\n",
       "      <th>ID Client Type</th>\n",
       "      <td>680</td>\n",
       "      <td>26</td>\n",
       "      <td>Hotelaria</td>\n",
       "      <td>231</td>\n",
       "    </tr>\n",
       "  </tbody>\n",
       "</table>\n",
       "</div>"
      ],
      "text/plain": [
       "               count unique        top freq\n",
       "0                                          \n",
       "Client ID       6462   6462  210100002    1\n",
       "ZIP Code        6462    261       4050  927\n",
       "ID Client Type   680     26  Hotelaria  231"
      ]
     },
     "execution_count": 21,
     "metadata": {},
     "output_type": "execute_result"
    }
   ],
   "source": [
    "# Summary statistics for discrete variables\n",
    "clients_df.describe(include='all').T"
   ]
  },
  {
   "cell_type": "markdown",
   "id": "fcd4186f-e45d-49ce-8099-997ed831359f",
   "metadata": {},
   "source": [
    "+ **Client_ID**: All values are unique\n",
    "+ **ZIP Code**: There are 261 different Codes\n",
    "+ **ID Client Type**: There are 26 different types of customers"
   ]
  },
  {
   "cell_type": "markdown",
   "id": "c0ff2940-0cb1-46d6-ad1c-69127ae0394d",
   "metadata": {},
   "source": [
    "<div style=\"background-color: #1D1D1B; padding: 10px; border-radius: 8px; text-align: center; margin-top: 20px; margin-bottom: 20px;\">\n",
    "    <h2 style=\"color: white; margin: 0;\">Products</h2>\n",
    "</div>"
   ]
  },
  {
   "cell_type": "code",
   "execution_count": 71,
   "id": "375a9ccd-334e-4c49-bf0c-f7ea395bb6c0",
   "metadata": {},
   "outputs": [
    {
     "data": {
      "text/html": [
       "<div>\n",
       "<style scoped>\n",
       "    .dataframe tbody tr th:only-of-type {\n",
       "        vertical-align: middle;\n",
       "    }\n",
       "\n",
       "    .dataframe tbody tr th {\n",
       "        vertical-align: top;\n",
       "    }\n",
       "\n",
       "    .dataframe thead th {\n",
       "        text-align: right;\n",
       "    }\n",
       "</style>\n",
       "<table border=\"1\" class=\"dataframe\">\n",
       "  <thead>\n",
       "    <tr style=\"text-align: right;\">\n",
       "      <th></th>\n",
       "      <th>Unnamed: 0</th>\n",
       "      <th>Unnamed: 1</th>\n",
       "      <th>Unnamed: 2</th>\n",
       "      <th>Unnamed: 3</th>\n",
       "    </tr>\n",
       "  </thead>\n",
       "  <tbody>\n",
       "    <tr>\n",
       "      <th>0</th>\n",
       "      <td>NaN</td>\n",
       "      <td>ID Product</td>\n",
       "      <td>Product Description</td>\n",
       "      <td>ID Product Category</td>\n",
       "    </tr>\n",
       "    <tr>\n",
       "      <th>1</th>\n",
       "      <td>NaN</td>\n",
       "      <td>224780</td>\n",
       "      <td>FARINHA ESPIGA AMIDO MILHO LUS.2KG</td>\n",
       "      <td>FARINHAS</td>\n",
       "    </tr>\n",
       "    <tr>\n",
       "      <th>2</th>\n",
       "      <td>NaN</td>\n",
       "      <td>276806</td>\n",
       "      <td>LARANJA CAL7 (67/76) RCH</td>\n",
       "      <td>FRUTAS FRESCAS</td>\n",
       "    </tr>\n",
       "    <tr>\n",
       "      <th>3</th>\n",
       "      <td>NaN</td>\n",
       "      <td>276809</td>\n",
       "      <td>LIMAO CAL 3/4 RCH</td>\n",
       "      <td>FRUTAS FRESCAS</td>\n",
       "    </tr>\n",
       "    <tr>\n",
       "      <th>4</th>\n",
       "      <td>NaN</td>\n",
       "      <td>277674</td>\n",
       "      <td>COGUMELO BRANCO MÉDIO RCH</td>\n",
       "      <td>LEGUMES FRESCOS</td>\n",
       "    </tr>\n",
       "  </tbody>\n",
       "</table>\n",
       "</div>"
      ],
      "text/plain": [
       "   Unnamed: 0  Unnamed: 1                          Unnamed: 2  \\\n",
       "0         NaN  ID Product                 Product Description   \n",
       "1         NaN      224780  FARINHA ESPIGA AMIDO MILHO LUS.2KG   \n",
       "2         NaN      276806            LARANJA CAL7 (67/76) RCH   \n",
       "3         NaN      276809                   LIMAO CAL 3/4 RCH   \n",
       "4         NaN      277674           COGUMELO BRANCO MÉDIO RCH   \n",
       "\n",
       "            Unnamed: 3  \n",
       "0  ID Product Category  \n",
       "1             FARINHAS  \n",
       "2       FRUTAS FRESCAS  \n",
       "3       FRUTAS FRESCAS  \n",
       "4      LEGUMES FRESCOS  "
      ]
     },
     "execution_count": 71,
     "metadata": {},
     "output_type": "execute_result"
    }
   ],
   "source": [
    "products_df.head()"
   ]
  },
  {
   "cell_type": "code",
   "execution_count": 73,
   "id": "a5dd3cc1-2b74-4e16-94cc-1685fa1658f1",
   "metadata": {},
   "outputs": [],
   "source": [
    "products_df.columns = products_df.iloc[0]  # Defining the firts row names as the column names\n",
    "products_df = products_df[1:].reset_index(drop=True) # eliminate the row with the previous column names"
   ]
  },
  {
   "cell_type": "code",
   "execution_count": 75,
   "id": "e74684ca-3ed5-4ffb-a158-91c5080093d6",
   "metadata": {},
   "outputs": [
    {
     "data": {
      "text/html": [
       "<div>\n",
       "<style scoped>\n",
       "    .dataframe tbody tr th:only-of-type {\n",
       "        vertical-align: middle;\n",
       "    }\n",
       "\n",
       "    .dataframe tbody tr th {\n",
       "        vertical-align: top;\n",
       "    }\n",
       "\n",
       "    .dataframe thead th {\n",
       "        text-align: right;\n",
       "    }\n",
       "</style>\n",
       "<table border=\"1\" class=\"dataframe\">\n",
       "  <thead>\n",
       "    <tr style=\"text-align: right;\">\n",
       "      <th></th>\n",
       "      <th>NaN</th>\n",
       "      <th>ID Product</th>\n",
       "      <th>Product Description</th>\n",
       "      <th>ID Product Category</th>\n",
       "    </tr>\n",
       "  </thead>\n",
       "  <tbody>\n",
       "    <tr>\n",
       "      <th>0</th>\n",
       "      <td>NaN</td>\n",
       "      <td>224780</td>\n",
       "      <td>FARINHA ESPIGA AMIDO MILHO LUS.2KG</td>\n",
       "      <td>FARINHAS</td>\n",
       "    </tr>\n",
       "    <tr>\n",
       "      <th>1</th>\n",
       "      <td>NaN</td>\n",
       "      <td>276806</td>\n",
       "      <td>LARANJA CAL7 (67/76) RCH</td>\n",
       "      <td>FRUTAS FRESCAS</td>\n",
       "    </tr>\n",
       "    <tr>\n",
       "      <th>2</th>\n",
       "      <td>NaN</td>\n",
       "      <td>276809</td>\n",
       "      <td>LIMAO CAL 3/4 RCH</td>\n",
       "      <td>FRUTAS FRESCAS</td>\n",
       "    </tr>\n",
       "    <tr>\n",
       "      <th>3</th>\n",
       "      <td>NaN</td>\n",
       "      <td>277674</td>\n",
       "      <td>COGUMELO BRANCO MÉDIO RCH</td>\n",
       "      <td>LEGUMES FRESCOS</td>\n",
       "    </tr>\n",
       "    <tr>\n",
       "      <th>4</th>\n",
       "      <td>NaN</td>\n",
       "      <td>277917</td>\n",
       "      <td>TOMATE BB 67/82 1CAM RCH</td>\n",
       "      <td>LEGUMES FRESCOS</td>\n",
       "    </tr>\n",
       "  </tbody>\n",
       "</table>\n",
       "</div>"
      ],
      "text/plain": [
       "0  NaN ID Product                 Product Description ID Product Category\n",
       "0  NaN     224780  FARINHA ESPIGA AMIDO MILHO LUS.2KG            FARINHAS\n",
       "1  NaN     276806            LARANJA CAL7 (67/76) RCH      FRUTAS FRESCAS\n",
       "2  NaN     276809                   LIMAO CAL 3/4 RCH      FRUTAS FRESCAS\n",
       "3  NaN     277674           COGUMELO BRANCO MÉDIO RCH     LEGUMES FRESCOS\n",
       "4  NaN     277917            TOMATE BB 67/82 1CAM RCH     LEGUMES FRESCOS"
      ]
     },
     "execution_count": 75,
     "metadata": {},
     "output_type": "execute_result"
    }
   ],
   "source": [
    "products_df.head()"
   ]
  },
  {
   "cell_type": "markdown",
   "id": "c79443bf-ffb0-407e-9c1e-6e39839da9d6",
   "metadata": {},
   "source": [
    "<a id = \"ds\"></a>\n",
    "\n",
    "<div style=\"background-color: #006B3F; padding: 10px; border-radius: 8px; text-align: center; margin-top: 20px; margin-bottom: 20px;\">\n",
    "    <h4 style=\"color: white; margin: 0;\">Data Shape</h4>\n",
    "</div>"
   ]
  },
  {
   "cell_type": "code",
   "execution_count": 79,
   "id": "8d845835-cee0-4a77-bfeb-d5405944849f",
   "metadata": {},
   "outputs": [
    {
     "data": {
      "text/plain": [
       "(4583, 4)"
      ]
     },
     "execution_count": 79,
     "metadata": {},
     "output_type": "execute_result"
    }
   ],
   "source": [
    "# Shape (no rows,no columns)\n",
    "products_df.shape"
   ]
  },
  {
   "cell_type": "markdown",
   "id": "699f20ba-653d-4328-a6da-8e39757b4eef",
   "metadata": {},
   "source": [
    "+ The dataset has 4583 rows and 4 columns"
   ]
  },
  {
   "cell_type": "code",
   "execution_count": 81,
   "id": "8721f1bb-69cf-4c0d-baf0-d7df715a3144",
   "metadata": {},
   "outputs": [
    {
     "data": {
      "text/plain": [
       "0\n",
       "NaN                    4583\n",
       "ID Product                0\n",
       "Product Description       0\n",
       "ID Product Category       0\n",
       "dtype: int64"
      ]
     },
     "execution_count": 81,
     "metadata": {},
     "output_type": "execute_result"
    }
   ],
   "source": [
    "# Missing Values\n",
    "products_df.isna().sum()"
   ]
  },
  {
   "cell_type": "code",
   "execution_count": 83,
   "id": "fa78554c-a87a-4442-ab28-8a9495d0f22c",
   "metadata": {},
   "outputs": [],
   "source": [
    "# Exclude the first column\n",
    "products_df = products_df.iloc[:, 1:]\n"
   ]
  },
  {
   "cell_type": "code",
   "execution_count": 85,
   "id": "b1caffc6-88ac-4c43-86d4-52878736fc51",
   "metadata": {},
   "outputs": [
    {
     "data": {
      "text/html": [
       "<div>\n",
       "<style scoped>\n",
       "    .dataframe tbody tr th:only-of-type {\n",
       "        vertical-align: middle;\n",
       "    }\n",
       "\n",
       "    .dataframe tbody tr th {\n",
       "        vertical-align: top;\n",
       "    }\n",
       "\n",
       "    .dataframe thead th {\n",
       "        text-align: right;\n",
       "    }\n",
       "</style>\n",
       "<table border=\"1\" class=\"dataframe\">\n",
       "  <thead>\n",
       "    <tr style=\"text-align: right;\">\n",
       "      <th></th>\n",
       "      <th>ID Product</th>\n",
       "      <th>Product Description</th>\n",
       "      <th>ID Product Category</th>\n",
       "    </tr>\n",
       "  </thead>\n",
       "  <tbody>\n",
       "    <tr>\n",
       "      <th>0</th>\n",
       "      <td>224780</td>\n",
       "      <td>FARINHA ESPIGA AMIDO MILHO LUS.2KG</td>\n",
       "      <td>FARINHAS</td>\n",
       "    </tr>\n",
       "    <tr>\n",
       "      <th>1</th>\n",
       "      <td>276806</td>\n",
       "      <td>LARANJA CAL7 (67/76) RCH</td>\n",
       "      <td>FRUTAS FRESCAS</td>\n",
       "    </tr>\n",
       "    <tr>\n",
       "      <th>2</th>\n",
       "      <td>276809</td>\n",
       "      <td>LIMAO CAL 3/4 RCH</td>\n",
       "      <td>FRUTAS FRESCAS</td>\n",
       "    </tr>\n",
       "    <tr>\n",
       "      <th>3</th>\n",
       "      <td>277674</td>\n",
       "      <td>COGUMELO BRANCO MÉDIO RCH</td>\n",
       "      <td>LEGUMES FRESCOS</td>\n",
       "    </tr>\n",
       "    <tr>\n",
       "      <th>4</th>\n",
       "      <td>277917</td>\n",
       "      <td>TOMATE BB 67/82 1CAM RCH</td>\n",
       "      <td>LEGUMES FRESCOS</td>\n",
       "    </tr>\n",
       "  </tbody>\n",
       "</table>\n",
       "</div>"
      ],
      "text/plain": [
       "0 ID Product                 Product Description ID Product Category\n",
       "0     224780  FARINHA ESPIGA AMIDO MILHO LUS.2KG            FARINHAS\n",
       "1     276806            LARANJA CAL7 (67/76) RCH      FRUTAS FRESCAS\n",
       "2     276809                   LIMAO CAL 3/4 RCH      FRUTAS FRESCAS\n",
       "3     277674           COGUMELO BRANCO MÉDIO RCH     LEGUMES FRESCOS\n",
       "4     277917            TOMATE BB 67/82 1CAM RCH     LEGUMES FRESCOS"
      ]
     },
     "execution_count": 85,
     "metadata": {},
     "output_type": "execute_result"
    }
   ],
   "source": [
    "products_df.head()"
   ]
  },
  {
   "cell_type": "code",
   "execution_count": 90,
   "id": "b80d9847-eefb-4f50-bba3-0da60fd51d20",
   "metadata": {},
   "outputs": [],
   "source": [
    "# doing a copy of the dataframe cleaned\n",
    "products_df_copy = products_df.copy()"
   ]
  },
  {
   "cell_type": "markdown",
   "id": "71533679-0c8b-4438-a7b0-0cc661e8aa00",
   "metadata": {},
   "source": [
    "<a id = \"dt\"></a>\n",
    "\n",
    "<div style=\"background-color: #006B3F; padding: 10px; border-radius: 8px; text-align: center; margin-top: 20px; margin-bottom: 20px;\">\n",
    "    <h4 style=\"color: white; margin: 0;\">Data Types</h4>\n",
    "</div>"
   ]
  },
  {
   "cell_type": "code",
   "execution_count": 114,
   "id": "400e94c8-40b1-44aa-80dd-7c3e3278c387",
   "metadata": {},
   "outputs": [
    {
     "name": "stdout",
     "output_type": "stream",
     "text": [
      "<class 'pandas.core.frame.DataFrame'>\n",
      "RangeIndex: 4583 entries, 0 to 4582\n",
      "Data columns (total 3 columns):\n",
      " #   Column               Non-Null Count  Dtype \n",
      "---  ------               --------------  ----- \n",
      " 0   ID Product           4583 non-null   object\n",
      " 1   Product Description  4583 non-null   object\n",
      " 2   ID Product Category  4583 non-null   object\n",
      "dtypes: object(3)\n",
      "memory usage: 107.5+ KB\n"
     ]
    }
   ],
   "source": [
    "products_df.info()"
   ]
  },
  {
   "cell_type": "markdown",
   "id": "c5fb1577-25ae-4eaf-a33d-bc2094b3a9c9",
   "metadata": {},
   "source": [
    "<a id = \"ss\"></a>\n",
    "\n",
    "<div style=\"background-color: #006B3F; padding: 10px; border-radius: 8px; text-align: center; margin-top: 20px; margin-bottom: 20px;\">\n",
    "    <h4 style=\"color: white; margin: 0;\">Summary Statistics</h4>\n",
    "</div>"
   ]
  },
  {
   "cell_type": "code",
   "execution_count": 116,
   "id": "dab02265-5767-4cf2-95ce-fc8154080798",
   "metadata": {},
   "outputs": [
    {
     "data": {
      "text/html": [
       "<div>\n",
       "<style scoped>\n",
       "    .dataframe tbody tr th:only-of-type {\n",
       "        vertical-align: middle;\n",
       "    }\n",
       "\n",
       "    .dataframe tbody tr th {\n",
       "        vertical-align: top;\n",
       "    }\n",
       "\n",
       "    .dataframe thead th {\n",
       "        text-align: right;\n",
       "    }\n",
       "</style>\n",
       "<table border=\"1\" class=\"dataframe\">\n",
       "  <thead>\n",
       "    <tr style=\"text-align: right;\">\n",
       "      <th></th>\n",
       "      <th>count</th>\n",
       "      <th>unique</th>\n",
       "      <th>top</th>\n",
       "      <th>freq</th>\n",
       "    </tr>\n",
       "    <tr>\n",
       "      <th>0</th>\n",
       "      <th></th>\n",
       "      <th></th>\n",
       "      <th></th>\n",
       "      <th></th>\n",
       "    </tr>\n",
       "  </thead>\n",
       "  <tbody>\n",
       "    <tr>\n",
       "      <th>ID Product</th>\n",
       "      <td>4583</td>\n",
       "      <td>4583</td>\n",
       "      <td>224780</td>\n",
       "      <td>1</td>\n",
       "    </tr>\n",
       "    <tr>\n",
       "      <th>Product Description</th>\n",
       "      <td>4583</td>\n",
       "      <td>4573</td>\n",
       "      <td>CABO ESFREGONA VILEDA SUPER 1UN</td>\n",
       "      <td>2</td>\n",
       "    </tr>\n",
       "    <tr>\n",
       "      <th>ID Product Category</th>\n",
       "      <td>4583</td>\n",
       "      <td>268</td>\n",
       "      <td>VINHOS TINTOS</td>\n",
       "      <td>175</td>\n",
       "    </tr>\n",
       "  </tbody>\n",
       "</table>\n",
       "</div>"
      ],
      "text/plain": [
       "                    count unique                              top freq\n",
       "0                                                                     \n",
       "ID Product           4583   4583                           224780    1\n",
       "Product Description  4583   4573  CABO ESFREGONA VILEDA SUPER 1UN    2\n",
       "ID Product Category  4583    268                    VINHOS TINTOS  175"
      ]
     },
     "execution_count": 116,
     "metadata": {},
     "output_type": "execute_result"
    }
   ],
   "source": [
    "# Summary statistics for discrete variables\n",
    "products_df.describe(include='all').T"
   ]
  },
  {
   "cell_type": "markdown",
   "id": "f57394ac-cd1d-4c28-b13e-19d0a2a7ef1c",
   "metadata": {},
   "source": [
    "+ **ID Product**: All values are unique\n",
    "+ **Product Description**: There are 4573 different descriptions\n",
    "+ **ID Product Category**: There are 268 different types of products"
   ]
  },
  {
   "cell_type": "markdown",
   "id": "082c28c2-a911-47d2-b462-7affaa9ec469",
   "metadata": {},
   "source": [
    "<div style=\"background-color: #1D1D1B; padding: 10px; border-radius: 8px; text-align: center; margin-top: 20px; margin-bottom: 20px;\">\n",
    "    <h2 style=\"color: white; margin: 0;\">Transactions</h2>\n",
    "</div>"
   ]
  },
  {
   "cell_type": "code",
   "execution_count": 95,
   "id": "ee090b1f-cb99-4e61-9108-0249fbb913f9",
   "metadata": {},
   "outputs": [
    {
     "data": {
      "text/html": [
       "<div>\n",
       "<style scoped>\n",
       "    .dataframe tbody tr th:only-of-type {\n",
       "        vertical-align: middle;\n",
       "    }\n",
       "\n",
       "    .dataframe tbody tr th {\n",
       "        vertical-align: top;\n",
       "    }\n",
       "\n",
       "    .dataframe thead th {\n",
       "        text-align: right;\n",
       "    }\n",
       "</style>\n",
       "<table border=\"1\" class=\"dataframe\">\n",
       "  <thead>\n",
       "    <tr style=\"text-align: right;\">\n",
       "      <th></th>\n",
       "      <th>Unnamed: 0</th>\n",
       "      <th>Unnamed: 1</th>\n",
       "      <th>Unnamed: 2</th>\n",
       "      <th>Unnamed: 3</th>\n",
       "    </tr>\n",
       "  </thead>\n",
       "  <tbody>\n",
       "    <tr>\n",
       "      <th>0</th>\n",
       "      <td>NaN</td>\n",
       "      <td>Date</td>\n",
       "      <td>Client ID</td>\n",
       "      <td>ID Product</td>\n",
       "    </tr>\n",
       "    <tr>\n",
       "      <th>1</th>\n",
       "      <td>NaN</td>\n",
       "      <td>2022-01-02 00:00:00</td>\n",
       "      <td>210100281</td>\n",
       "      <td>224780</td>\n",
       "    </tr>\n",
       "    <tr>\n",
       "      <th>2</th>\n",
       "      <td>NaN</td>\n",
       "      <td>2022-01-02 00:00:00</td>\n",
       "      <td>210100281</td>\n",
       "      <td>276806</td>\n",
       "    </tr>\n",
       "    <tr>\n",
       "      <th>3</th>\n",
       "      <td>NaN</td>\n",
       "      <td>2022-01-02 00:00:00</td>\n",
       "      <td>210100281</td>\n",
       "      <td>276809</td>\n",
       "    </tr>\n",
       "    <tr>\n",
       "      <th>4</th>\n",
       "      <td>NaN</td>\n",
       "      <td>2022-01-02 00:00:00</td>\n",
       "      <td>210100281</td>\n",
       "      <td>277674</td>\n",
       "    </tr>\n",
       "  </tbody>\n",
       "</table>\n",
       "</div>"
      ],
      "text/plain": [
       "   Unnamed: 0           Unnamed: 1 Unnamed: 2  Unnamed: 3\n",
       "0         NaN                 Date  Client ID  ID Product\n",
       "1         NaN  2022-01-02 00:00:00  210100281      224780\n",
       "2         NaN  2022-01-02 00:00:00  210100281      276806\n",
       "3         NaN  2022-01-02 00:00:00  210100281      276809\n",
       "4         NaN  2022-01-02 00:00:00  210100281      277674"
      ]
     },
     "execution_count": 95,
     "metadata": {},
     "output_type": "execute_result"
    }
   ],
   "source": [
    "transactions_df.head()"
   ]
  },
  {
   "cell_type": "code",
   "execution_count": 97,
   "id": "29c7f43f-c930-4848-9bee-2126eaf693b0",
   "metadata": {},
   "outputs": [],
   "source": [
    "transactions_df.columns = transactions_df.iloc[0]  # Defining the firts row names as the column names\n",
    "transactions_df = transactions_df[1:].reset_index(drop=True) # eliminate the row with the previous column names"
   ]
  },
  {
   "cell_type": "code",
   "execution_count": 99,
   "id": "3adfe7fb-e508-488d-9e3b-ef4579208f1f",
   "metadata": {},
   "outputs": [
    {
     "data": {
      "text/html": [
       "<div>\n",
       "<style scoped>\n",
       "    .dataframe tbody tr th:only-of-type {\n",
       "        vertical-align: middle;\n",
       "    }\n",
       "\n",
       "    .dataframe tbody tr th {\n",
       "        vertical-align: top;\n",
       "    }\n",
       "\n",
       "    .dataframe thead th {\n",
       "        text-align: right;\n",
       "    }\n",
       "</style>\n",
       "<table border=\"1\" class=\"dataframe\">\n",
       "  <thead>\n",
       "    <tr style=\"text-align: right;\">\n",
       "      <th></th>\n",
       "      <th>NaN</th>\n",
       "      <th>Date</th>\n",
       "      <th>Client ID</th>\n",
       "      <th>ID Product</th>\n",
       "    </tr>\n",
       "  </thead>\n",
       "  <tbody>\n",
       "    <tr>\n",
       "      <th>0</th>\n",
       "      <td>NaN</td>\n",
       "      <td>2022-01-02 00:00:00</td>\n",
       "      <td>210100281</td>\n",
       "      <td>224780</td>\n",
       "    </tr>\n",
       "    <tr>\n",
       "      <th>1</th>\n",
       "      <td>NaN</td>\n",
       "      <td>2022-01-02 00:00:00</td>\n",
       "      <td>210100281</td>\n",
       "      <td>276806</td>\n",
       "    </tr>\n",
       "    <tr>\n",
       "      <th>2</th>\n",
       "      <td>NaN</td>\n",
       "      <td>2022-01-02 00:00:00</td>\n",
       "      <td>210100281</td>\n",
       "      <td>276809</td>\n",
       "    </tr>\n",
       "    <tr>\n",
       "      <th>3</th>\n",
       "      <td>NaN</td>\n",
       "      <td>2022-01-02 00:00:00</td>\n",
       "      <td>210100281</td>\n",
       "      <td>277674</td>\n",
       "    </tr>\n",
       "    <tr>\n",
       "      <th>4</th>\n",
       "      <td>NaN</td>\n",
       "      <td>2022-01-02 00:00:00</td>\n",
       "      <td>210100281</td>\n",
       "      <td>277917</td>\n",
       "    </tr>\n",
       "  </tbody>\n",
       "</table>\n",
       "</div>"
      ],
      "text/plain": [
       "0  NaN                 Date  Client ID ID Product\n",
       "0  NaN  2022-01-02 00:00:00  210100281     224780\n",
       "1  NaN  2022-01-02 00:00:00  210100281     276806\n",
       "2  NaN  2022-01-02 00:00:00  210100281     276809\n",
       "3  NaN  2022-01-02 00:00:00  210100281     277674\n",
       "4  NaN  2022-01-02 00:00:00  210100281     277917"
      ]
     },
     "execution_count": 99,
     "metadata": {},
     "output_type": "execute_result"
    }
   ],
   "source": [
    "transactions_df.head()"
   ]
  },
  {
   "cell_type": "markdown",
   "id": "77b0c449-9648-4fc9-8f72-6a7651142f9f",
   "metadata": {},
   "source": [
    "<a id = \"ds\"></a>\n",
    "\n",
    "<div style=\"background-color: #006B3F; padding: 10px; border-radius: 8px; text-align: center; margin-top: 20px; margin-bottom: 20px;\">\n",
    "    <h4 style=\"color: white; margin: 0;\">Data Shape</h4>\n",
    "</div>"
   ]
  },
  {
   "cell_type": "code",
   "execution_count": 101,
   "id": "bed02c56-e5e4-4f31-aa91-e775285ad5a0",
   "metadata": {},
   "outputs": [
    {
     "data": {
      "text/plain": [
       "(884099, 4)"
      ]
     },
     "execution_count": 101,
     "metadata": {},
     "output_type": "execute_result"
    }
   ],
   "source": [
    "# Shape (no rows,no columns)\n",
    "transactions_df.shape"
   ]
  },
  {
   "cell_type": "markdown",
   "id": "8654d6ca-4add-4d42-a0cb-d4e0819d54d5",
   "metadata": {},
   "source": [
    "+ The dataset has 884099 rows and 4 columns"
   ]
  },
  {
   "cell_type": "code",
   "execution_count": 103,
   "id": "eb9dac72-4dd1-48c7-9761-4ebfe2308ae4",
   "metadata": {},
   "outputs": [
    {
     "data": {
      "text/plain": [
       "0\n",
       "NaN           884099\n",
       "Date               0\n",
       "Client ID          0\n",
       "ID Product         0\n",
       "dtype: int64"
      ]
     },
     "execution_count": 103,
     "metadata": {},
     "output_type": "execute_result"
    }
   ],
   "source": [
    "# Missing Values\n",
    "transactions_df.isna().sum()"
   ]
  },
  {
   "cell_type": "code",
   "execution_count": 105,
   "id": "374fce73-430e-4be8-a1c5-80f3f68e1bd1",
   "metadata": {},
   "outputs": [],
   "source": [
    "# Exclude the first column\n",
    "transactions_df = transactions_df.iloc[:, 1:]\n"
   ]
  },
  {
   "cell_type": "code",
   "execution_count": 109,
   "id": "571efda6-c456-4a62-81c6-b2f4af22d671",
   "metadata": {},
   "outputs": [
    {
     "data": {
      "text/html": [
       "<div>\n",
       "<style scoped>\n",
       "    .dataframe tbody tr th:only-of-type {\n",
       "        vertical-align: middle;\n",
       "    }\n",
       "\n",
       "    .dataframe tbody tr th {\n",
       "        vertical-align: top;\n",
       "    }\n",
       "\n",
       "    .dataframe thead th {\n",
       "        text-align: right;\n",
       "    }\n",
       "</style>\n",
       "<table border=\"1\" class=\"dataframe\">\n",
       "  <thead>\n",
       "    <tr style=\"text-align: right;\">\n",
       "      <th></th>\n",
       "      <th>Date</th>\n",
       "      <th>Client ID</th>\n",
       "      <th>ID Product</th>\n",
       "    </tr>\n",
       "  </thead>\n",
       "  <tbody>\n",
       "    <tr>\n",
       "      <th>0</th>\n",
       "      <td>2022-01-02 00:00:00</td>\n",
       "      <td>210100281</td>\n",
       "      <td>224780</td>\n",
       "    </tr>\n",
       "    <tr>\n",
       "      <th>1</th>\n",
       "      <td>2022-01-02 00:00:00</td>\n",
       "      <td>210100281</td>\n",
       "      <td>276806</td>\n",
       "    </tr>\n",
       "    <tr>\n",
       "      <th>2</th>\n",
       "      <td>2022-01-02 00:00:00</td>\n",
       "      <td>210100281</td>\n",
       "      <td>276809</td>\n",
       "    </tr>\n",
       "    <tr>\n",
       "      <th>3</th>\n",
       "      <td>2022-01-02 00:00:00</td>\n",
       "      <td>210100281</td>\n",
       "      <td>277674</td>\n",
       "    </tr>\n",
       "    <tr>\n",
       "      <th>4</th>\n",
       "      <td>2022-01-02 00:00:00</td>\n",
       "      <td>210100281</td>\n",
       "      <td>277917</td>\n",
       "    </tr>\n",
       "  </tbody>\n",
       "</table>\n",
       "</div>"
      ],
      "text/plain": [
       "0                 Date  Client ID ID Product\n",
       "0  2022-01-02 00:00:00  210100281     224780\n",
       "1  2022-01-02 00:00:00  210100281     276806\n",
       "2  2022-01-02 00:00:00  210100281     276809\n",
       "3  2022-01-02 00:00:00  210100281     277674\n",
       "4  2022-01-02 00:00:00  210100281     277917"
      ]
     },
     "execution_count": 109,
     "metadata": {},
     "output_type": "execute_result"
    }
   ],
   "source": [
    "transactions_df.head()"
   ]
  },
  {
   "cell_type": "code",
   "execution_count": 107,
   "id": "0124f703-63d5-4ccf-9c84-18a6f76b169a",
   "metadata": {},
   "outputs": [],
   "source": [
    "# doing a copy of the dataframe cleaned\n",
    "transactions_df_copy = transactions_df.copy()"
   ]
  },
  {
   "cell_type": "markdown",
   "id": "7f534691-3d86-4721-a390-e930202fdbc8",
   "metadata": {},
   "source": [
    "<a id = \"dt\"></a>\n",
    "\n",
    "<div style=\"background-color: #006B3F; padding: 10px; border-radius: 8px; text-align: center; margin-top: 20px; margin-bottom: 20px;\">\n",
    "    <h4 style=\"color: white; margin: 0;\">Data Types</h4>\n",
    "</div>"
   ]
  },
  {
   "cell_type": "code",
   "execution_count": 120,
   "id": "6032cb9e-aa6e-4efe-8f65-befdd8614c00",
   "metadata": {},
   "outputs": [
    {
     "name": "stdout",
     "output_type": "stream",
     "text": [
      "<class 'pandas.core.frame.DataFrame'>\n",
      "RangeIndex: 884099 entries, 0 to 884098\n",
      "Data columns (total 3 columns):\n",
      " #   Column      Non-Null Count   Dtype \n",
      "---  ------      --------------   ----- \n",
      " 0   Date        884099 non-null  object\n",
      " 1   Client ID   884099 non-null  object\n",
      " 2   ID Product  884099 non-null  object\n",
      "dtypes: object(3)\n",
      "memory usage: 20.2+ MB\n"
     ]
    }
   ],
   "source": [
    "transactions_df.info()"
   ]
  },
  {
   "cell_type": "markdown",
   "id": "9f94e4b4-4584-49e6-a12f-63b4d69b9edd",
   "metadata": {},
   "source": [
    "<a id = \"ss\"></a>\n",
    "\n",
    "<div style=\"background-color: #006B3F; padding: 10px; border-radius: 8px; text-align: center; margin-top: 20px; margin-bottom: 20px;\">\n",
    "    <h4 style=\"color: white; margin: 0;\">Summary Statistics</h4>\n",
    "</div>"
   ]
  },
  {
   "cell_type": "code",
   "execution_count": 122,
   "id": "0adff4f2-f439-4d91-a54c-8b94485c32bd",
   "metadata": {},
   "outputs": [
    {
     "data": {
      "text/html": [
       "<div>\n",
       "<style scoped>\n",
       "    .dataframe tbody tr th:only-of-type {\n",
       "        vertical-align: middle;\n",
       "    }\n",
       "\n",
       "    .dataframe tbody tr th {\n",
       "        vertical-align: top;\n",
       "    }\n",
       "\n",
       "    .dataframe thead th {\n",
       "        text-align: right;\n",
       "    }\n",
       "</style>\n",
       "<table border=\"1\" class=\"dataframe\">\n",
       "  <thead>\n",
       "    <tr style=\"text-align: right;\">\n",
       "      <th></th>\n",
       "      <th>count</th>\n",
       "      <th>unique</th>\n",
       "      <th>top</th>\n",
       "      <th>freq</th>\n",
       "    </tr>\n",
       "    <tr>\n",
       "      <th>0</th>\n",
       "      <th></th>\n",
       "      <th></th>\n",
       "      <th></th>\n",
       "      <th></th>\n",
       "    </tr>\n",
       "  </thead>\n",
       "  <tbody>\n",
       "    <tr>\n",
       "      <th>Date</th>\n",
       "      <td>884099</td>\n",
       "      <td>311</td>\n",
       "      <td>2022-10-01 00:00:00</td>\n",
       "      <td>5441</td>\n",
       "    </tr>\n",
       "    <tr>\n",
       "      <th>Client ID</th>\n",
       "      <td>884099</td>\n",
       "      <td>1529</td>\n",
       "      <td>210103651</td>\n",
       "      <td>13274</td>\n",
       "    </tr>\n",
       "    <tr>\n",
       "      <th>ID Product</th>\n",
       "      <td>884099</td>\n",
       "      <td>4583</td>\n",
       "      <td>621958</td>\n",
       "      <td>12009</td>\n",
       "    </tr>\n",
       "  </tbody>\n",
       "</table>\n",
       "</div>"
      ],
      "text/plain": [
       "             count unique                  top   freq\n",
       "0                                                    \n",
       "Date        884099    311  2022-10-01 00:00:00   5441\n",
       "Client ID   884099   1529            210103651  13274\n",
       "ID Product  884099   4583               621958  12009"
      ]
     },
     "execution_count": 122,
     "metadata": {},
     "output_type": "execute_result"
    }
   ],
   "source": [
    "# Summary statistics for discrete variables\n",
    "transactions_df.describe(include='all').T"
   ]
  },
  {
   "cell_type": "markdown",
   "id": "a02b5a21-0c1a-4695-aa2b-2d1cd3236a2e",
   "metadata": {},
   "source": [
    "<a id = \"Data-Vizualization\"></a>\n",
    "\n",
    "<div style=\"background-color: #8FC93A; padding: 10px; border-radius: 8px; text-align: center; margin-top: 20px; margin-bottom: 20px;\">\n",
    "    <h3 style=\"color: white; margin: 0;\">1.2. Data Visualization </h3>\n",
    "</div>\n",
    "\n",
    "- [Zip Code](#zip)\n",
    "- [Boolean variables](#bol)\n",
    "- [Categorical variables](#cat)\n",
    "- [Customer Behaviour](#cb)\n",
    "- [Revenue](#rev)\n",
    "- [Room Preferences](#rp)\n",
    "- [Correlation](#cor)\n",
    "\n",
    "[Back to Index](#Index)"
   ]
  },
  {
   "cell_type": "markdown",
   "id": "530fd295-1b28-43d6-b6b0-058a8daa05bd",
   "metadata": {},
   "source": [
    "<a id = \"zip\"></a>\n",
    "\n",
    "<div style=\"background-color: #006B3F; padding: 10px; border-radius: 8px; text-align: center; margin-top: 20px; margin-bottom: 20px;\">\n",
    "    <h4 style=\"color: white; margin: 0;\">ZIP Code</h4>\n",
    "</div>"
   ]
  },
  {
   "cell_type": "code",
   "execution_count": 144,
   "id": "7d3a0854-f432-4c75-889d-460d67289c10",
   "metadata": {},
   "outputs": [
    {
     "data": {
      "text/plain": [
       "array([4049, 4000, 4149, 4100, 4405, 4400, 4560, 4050, 4420, 4150, 4430,\n",
       "       4520, 4460, 4450, 4445, 4435, 4300, 4470, 4425, 4465, 2700, 4350,\n",
       "       4250, 0, 1150, 4175, 4455, 1749, 4200, 4785, 4515, 4485, 4490,\n",
       "       4570, 4760, 4480, 4740, 4495, 3000, 4580, 4590, 4510, 3810, 4440,\n",
       "       4800, 4475, 5100, 1800, 2485, 1070, 4404, 4810, 3350, 2665, 9504,\n",
       "       4410, 4535, 4536, 2855, 3080, 7080, 8300, 5085, 1250, 7230, 4825,\n",
       "       1600, 2780, 2914, 7000, 8000, 1000, 1099, 2900, 1269, 8400, 2400,\n",
       "       5300, 3800, 3510, 4700, 4505, 4780, 3, 1, 4415, 4575, 2765, 1100,\n",
       "       4500, 1200, 2799, 3050, 4715, 3885, 2950, 1990, 9050, 3840, 4169,\n",
       "       4745, 4585, 4525, 3700, 1050, 4640, 1350, 2840, 2745, 4349, 3460,\n",
       "       1950, 3100, 3830, 4099, 4595, 4199, 4416, 1349, 2790, 4815, 3880,\n",
       "       3720, 1249, 4650, 7300, 1495, 2795, 2414, 4600, 1400, 4795, 1399,\n",
       "       4850, 4930, 4451, 3870, 1675, 4770, 4620, 2660, 9700, 1900, 1700,\n",
       "       4935, 6270, 4476, 4369, 7370, 1750, 9950, 4474, 4610, 4466, 1300,\n",
       "       2610, 4765, 4751, 2500, 4249, 3850, 4730, 4755, 4710, 2420, 5040,\n",
       "       5370, 1649, 4775, 4885, 3804, 4910, 4454, 4550, 4635, 4711, 4805,\n",
       "       4540, 4900, 4835, 5000, 4750, 5400, 3750, 4990, 4820, 4920, 3500,\n",
       "       3770, 5340, 4880, 4970, 4811, 1500, 4904, 4925, 6300, 6200, 6420,\n",
       "       3300, 3404, 3660, 2750, 2870, 4464, 2710, 4690, 4625, 3440, 4905,\n",
       "       4660, 2695, 4630, 3420, 4870, 4719, 5130, 2605, 2865, 7480, 6000,\n",
       "       2675, 2825, 7570, 2800, 2815, 2720, 2625, 2070, 7220, 7520, 6230,\n",
       "       7900, 4705, 3860, 4434, 3730, 4784, 9000, 2835, 1685, 2830, 3780,\n",
       "       2620, 6120, 2670, 2680, 2635, 3405, 8800, 4890, 3004, 5450, 5150,\n",
       "       3040, 5050, 2560, 4469, 5110, 3044, 3045], dtype=object)"
      ]
     },
     "execution_count": 144,
     "metadata": {},
     "output_type": "execute_result"
    }
   ],
   "source": [
    "clients_df['ZIP Code'].unique()"
   ]
  },
  {
   "cell_type": "code",
   "execution_count": 146,
   "id": "d2cf49a6-17f0-4d16-a0b4-5c63b5c75189",
   "metadata": {},
   "outputs": [],
   "source": [
    "clients_df['ZIP Code'] = clients_df['ZIP Code'].astype(str)"
   ]
  },
  {
   "cell_type": "code",
   "execution_count": 148,
   "id": "9dfb0d3c-5f4e-4c7c-b2b9-30306a116446",
   "metadata": {},
   "outputs": [],
   "source": [
    "\n",
    "\n",
    "# Function for categorizing each code by region\n",
    "def region_by_postal_code(postal_code):\n",
    "    # Ensure that the ZIP Code is a str\n",
    "    postal_code = str(postal_code).strip().replace(\"-\", \"\")\n",
    "    \n",
    "    # Verify the prefixes\n",
    "    if  int(postal_code) <= 1999:\n",
    "        return \"Lisboa\"\n",
    "    elif 2000 <= int(postal_code) <= 2599:\n",
    "        return \"Santarém\"\n",
    "    elif 2600 <= int(postal_code) <= 2799:\n",
    "        return \"Amadora/Cascais\"\n",
    "    elif 2800 <= int(postal_code) <= 2999:\n",
    "        return \"Almada/Setubal\"\n",
    "    elif 3000 <= int(postal_code) <= 3999:\n",
    "        return \"Centro\"\n",
    "    elif 4000 <= int(postal_code) <= 4499:\n",
    "        return \"Porto\"\n",
    "    elif 4500 <= int(postal_code) <= 5499:\n",
    "        return \"Norte\"\n",
    "    elif 6000 <= int(postal_code) <= 6499:\n",
    "        return \"Centro\"\n",
    "    elif 7000 <= int(postal_code) <= 7999:\n",
    "        return \"Alentejo\"\n",
    "    elif 8000 <= int(postal_code) <= 8999:\n",
    "        return \"Algarve\"\n",
    "    elif 9000 <= int(postal_code) <= 9399:\n",
    "        return \"Madeira\"\n",
    "    elif 9500 <= int(postal_code) <= 9999:\n",
    "        return \"Açores\"\n",
    "    else:\n",
    "        return \"Região desconhecida\"\n",
    "\n",
    "# Dataframe to store the regions\n",
    "regions = clients_df\n",
    "\n",
    "# Ensure ZIP Code is treated as a string\n",
    "regions['ZIP Code'] = regions['ZIP Code'].astype(str)\n",
    "\n",
    "# Apply the function to get the regions for each Zip Code\n",
    "regions['Region'] = regions['ZIP Code'].apply(region_by_postal_code)\n",
    "\n",
    "\n"
   ]
  },
  {
   "cell_type": "code",
   "execution_count": 150,
   "id": "d21b969c-68f0-4a3b-b4b7-2ba29aa06914",
   "metadata": {},
   "outputs": [
    {
     "data": {
      "text/html": [
       "<div>\n",
       "<style scoped>\n",
       "    .dataframe tbody tr th:only-of-type {\n",
       "        vertical-align: middle;\n",
       "    }\n",
       "\n",
       "    .dataframe tbody tr th {\n",
       "        vertical-align: top;\n",
       "    }\n",
       "\n",
       "    .dataframe thead th {\n",
       "        text-align: right;\n",
       "    }\n",
       "</style>\n",
       "<table border=\"1\" class=\"dataframe\">\n",
       "  <thead>\n",
       "    <tr style=\"text-align: right;\">\n",
       "      <th></th>\n",
       "      <th>Region</th>\n",
       "      <th>Count</th>\n",
       "    </tr>\n",
       "  </thead>\n",
       "  <tbody>\n",
       "    <tr>\n",
       "      <th>0</th>\n",
       "      <td>Alentejo</td>\n",
       "      <td>13</td>\n",
       "    </tr>\n",
       "    <tr>\n",
       "      <th>1</th>\n",
       "      <td>Algarve</td>\n",
       "      <td>5</td>\n",
       "    </tr>\n",
       "    <tr>\n",
       "      <th>2</th>\n",
       "      <td>Almada/Setubal</td>\n",
       "      <td>25</td>\n",
       "    </tr>\n",
       "    <tr>\n",
       "      <th>3</th>\n",
       "      <td>Amadora/Cascais</td>\n",
       "      <td>50</td>\n",
       "    </tr>\n",
       "    <tr>\n",
       "      <th>4</th>\n",
       "      <td>Açores</td>\n",
       "      <td>3</td>\n",
       "    </tr>\n",
       "    <tr>\n",
       "      <th>5</th>\n",
       "      <td>Centro</td>\n",
       "      <td>269</td>\n",
       "    </tr>\n",
       "    <tr>\n",
       "      <th>6</th>\n",
       "      <td>Lisboa</td>\n",
       "      <td>293</td>\n",
       "    </tr>\n",
       "    <tr>\n",
       "      <th>7</th>\n",
       "      <td>Madeira</td>\n",
       "      <td>4</td>\n",
       "    </tr>\n",
       "    <tr>\n",
       "      <th>8</th>\n",
       "      <td>Norte</td>\n",
       "      <td>1092</td>\n",
       "    </tr>\n",
       "    <tr>\n",
       "      <th>9</th>\n",
       "      <td>Porto</td>\n",
       "      <td>4699</td>\n",
       "    </tr>\n",
       "    <tr>\n",
       "      <th>10</th>\n",
       "      <td>Santarém</td>\n",
       "      <td>9</td>\n",
       "    </tr>\n",
       "  </tbody>\n",
       "</table>\n",
       "</div>"
      ],
      "text/plain": [
       "             Region  Count\n",
       "0          Alentejo     13\n",
       "1           Algarve      5\n",
       "2    Almada/Setubal     25\n",
       "3   Amadora/Cascais     50\n",
       "4            Açores      3\n",
       "5            Centro    269\n",
       "6            Lisboa    293\n",
       "7           Madeira      4\n",
       "8             Norte   1092\n",
       "9             Porto   4699\n",
       "10         Santarém      9"
      ]
     },
     "execution_count": 150,
     "metadata": {},
     "output_type": "execute_result"
    }
   ],
   "source": [
    "# Contar quantas ocorrências há de cada região\n",
    "region_count = regions.groupby('Region').size().reset_index(name='Count')\n",
    "\n",
    "# Exibir o resultado\n",
    "region_count"
   ]
  },
  {
   "cell_type": "markdown",
   "id": "853eb4c8-c513-458f-a82a-c9dc7b09d02a",
   "metadata": {},
   "source": [
    "+ The majority of customers are located in the northern region of Portugal, with Porto standing out as the city with the highest number of clients.\n",
    "+ On the other hand, Açores, Madeira, and Algarve have the fewest customers."
   ]
  },
  {
   "cell_type": "code",
   "execution_count": null,
   "id": "13bdc282-4361-4a35-9c95-907de4e49989",
   "metadata": {},
   "outputs": [],
   "source": []
  },
  {
   "cell_type": "code",
   "execution_count": null,
   "id": "6603b614-e1cb-4983-a922-9bf55bd66293",
   "metadata": {},
   "outputs": [],
   "source": []
  },
  {
   "cell_type": "code",
   "execution_count": null,
   "id": "70b38ee1-1b79-4761-b3e8-295434f1eb3a",
   "metadata": {},
   "outputs": [],
   "source": []
  },
  {
   "cell_type": "code",
   "execution_count": null,
   "id": "3d123c08-6571-442d-b030-47502bc66339",
   "metadata": {},
   "outputs": [],
   "source": []
  },
  {
   "cell_type": "code",
   "execution_count": null,
   "id": "9d650225-bc82-4600-b961-f62aea366898",
   "metadata": {},
   "outputs": [],
   "source": []
  },
  {
   "cell_type": "code",
   "execution_count": null,
   "id": "9c5586f7-ab2e-43fa-bfe1-8a59a2751d02",
   "metadata": {},
   "outputs": [],
   "source": []
  },
  {
   "cell_type": "code",
   "execution_count": null,
   "id": "24798718-9358-4ae7-9efc-34aa45ec66db",
   "metadata": {},
   "outputs": [],
   "source": []
  },
  {
   "cell_type": "code",
   "execution_count": null,
   "id": "5670545e-6155-472b-ad2c-e57f7ef0dd93",
   "metadata": {},
   "outputs": [],
   "source": []
  },
  {
   "cell_type": "code",
   "execution_count": null,
   "id": "28ad939b-68a3-422e-aca2-962622780380",
   "metadata": {},
   "outputs": [],
   "source": []
  },
  {
   "cell_type": "code",
   "execution_count": null,
   "id": "f2a18333-fb02-4de3-bf49-cfc42955c703",
   "metadata": {},
   "outputs": [],
   "source": []
  }
 ],
 "metadata": {
  "kernelspec": {
   "display_name": "Python 3 (ipykernel)",
   "language": "python",
   "name": "python3"
  },
  "language_info": {
   "codemirror_mode": {
    "name": "ipython",
    "version": 3
   },
   "file_extension": ".py",
   "mimetype": "text/x-python",
   "name": "python",
   "nbconvert_exporter": "python",
   "pygments_lexer": "ipython3",
   "version": "3.12.4"
  }
 },
 "nbformat": 4,
 "nbformat_minor": 5
}
