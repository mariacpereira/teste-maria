{
 "cells": [
  {
   "cell_type": "markdown",
   "id": "8a9c4fe4-f663-48ff-9289-c5d841e57311",
   "metadata": {},
   "source": [
    "\n",
    "<div style=\"background-color: #8FC93A; padding: 20px; border-radius: 8px; text-align: center; margin-top: 10px; margin-bottom: 10px;\">\n",
    "    <h1 style=\"color: white; margin: 0;\">Recommender Systems</h1>\n"
   ]
  },
  {
   "cell_type": "markdown",
   "id": "8bfa1de4-42d2-467f-af42-7bc51801f7bd",
   "metadata": {},
   "source": [
    "<div style=\"background-color: #006B3F; padding: 10px; border-radius: 8px; text-align: center; margin-top: 10px; margin-bottom: 10px;\">\n",
    "    <h1 style=\"color: white; margin: 0;\">Recheio Cash & Carry</h1>\n",
    "</div>"
   ]
  },
  {
   "cell_type": "markdown",
   "id": "2d47ab94-490c-44f2-88a1-fc3f54ff6f23",
   "metadata": {},
   "source": [
    "GROUP NUMBER: **M** \n",
    "\n",
    "GROUP MEMBERS:\n",
    "\n",
    "|STUDENT NAME|STUDENT NUMBER|\n",
    "|---|---|\n",
    "|Leonor Wanzeller|20240586|\n",
    "|Maria Pereira|20240314|\n",
    "|Maria Francisca Fialho|20240346|\n",
    "|Miguel Mangerona|20240595|´\n",
    "|Rita Coelho Morgadito|20240611 |"
   ]
  },
  {
   "cell_type": "markdown",
   "id": "87498a95-3bd5-4963-8a9f-e06f4466fc53",
   "metadata": {},
   "source": [
    "## Dataset description\n",
    "This dataset is related to Client information from Recheio\n",
    "\n",
    "#### Clients\n",
    "- **Client ID**\n",
    "- **ZIP Code**\n",
    "- **ID Client Type**\n",
    "\n",
    "#### Products\n",
    "- **ID Product**\n",
    "- **Product Description**\n",
    "- **ID Product Category**\n",
    "\n",
    "#### Transactions\n",
    "\n",
    "- **Date**\n",
    "- **Client ID**\n",
    "- **ID Product**\n"
   ]
  },
  {
   "cell_type": "code",
   "execution_count": 1,
   "id": "0fe14a5b-5a9e-4c9b-b8bb-2b3361a5db6d",
   "metadata": {},
   "outputs": [],
   "source": [
    "# Packages\n",
    "import os\n",
    "import numpy as np\n",
    "import pandas as pd\n",
    "import matplotlib.pyplot as plt\n",
    "from matplotlib import ticker\n",
    "import seaborn as sns\n",
    "import joypy\n",
    "import category_encoders as ce\n",
    "import collections\n",
    "from sklearn.impute import SimpleImputer, KNNImputer\n",
    "from sklearn import preprocessing\n",
    "from sklearn.cluster import KMeans\n",
    "from sklearn.decomposition import PCA\n",
    "from sklearn.metrics import silhouette_score\n",
    "from yellowbrick.cluster import KElbowVisualizer\n",
    "from yellowbrick.cluster import SilhouetteVisualizer\n",
    "from yellowbrick.cluster import InterclusterDistance\n",
    "from matplotlib.ticker import FuncFormatter\n",
    "from scipy.stats.mstats import winsorize\n",
    "from scipy.cluster.hierarchy import linkage\n",
    "from scipy.cluster.hierarchy import dendrogram\n",
    "import plotly.express as px\n",
    "import pycountry\n",
    "import pycountry_convert as pc\n",
    "from sklearn.impute import KNNImputer\n",
    "from sklearn.preprocessing import LabelEncoder\n",
    "from sklearn.preprocessing import StandardScaler\n",
    "from sklearn.preprocessing import MinMaxScaler\n",
    "import fastcluster\n",
    "\n",
    "\n",
    "pd.set_option('display.max_columns', None)"
   ]
  },
  {
   "cell_type": "code",
   "execution_count": 2,
   "id": "aedb762d-44f5-4ce6-9713-6ac21c687ae2",
   "metadata": {},
   "outputs": [],
   "source": [
    "## pip install pgeocode\n"
   ]
  },
  {
   "cell_type": "markdown",
   "id": "6b302376",
   "metadata": {},
   "source": []
  },
  {
   "cell_type": "code",
   "execution_count": 3,
   "id": "ee744521-4c6c-4d08-a78e-cfd2bfa86e9b",
   "metadata": {},
   "outputs": [],
   "source": [
    "from pgeocode import GeoDistance"
   ]
  },
  {
   "cell_type": "code",
   "execution_count": 4,
   "id": "e52698bc-948a-43cc-96ce-cc2a5d637b9e",
   "metadata": {},
   "outputs": [],
   "source": [
    "import warnings\n",
    "warnings.simplefilter(action='ignore', category=FutureWarning)\n",
    "warnings.simplefilter(action='ignore', category=UserWarning)\n"
   ]
  },
  {
   "cell_type": "code",
   "execution_count": 5,
   "id": "873cd11e-4dc2-48d9-af01-2733c9fdae70",
   "metadata": {},
   "outputs": [],
   "source": [
    "# We compose a pallete to use in the vizualizations\n",
    "pal = [\n",
    "    \"#006B3F\",  # Dark Green\n",
    "    \"#8FC93A\",  # Light Green\n",
    "    \"#1D1D1B\",  # Black\n",
    "    \"#FFFFFF\",  # White\n",
    "    \"#D9D9D9\"   # Light Grey\n",
    "]\n"
   ]
  },
  {
   "cell_type": "markdown",
   "id": "29631e04-7400-4fef-9bb2-9c01f2ecc05e",
   "metadata": {},
   "source": [
    "<a id = \"Index\"></a>\n",
    "\n",
    "<div style=\"background-color:#8FC93A; padding: 10px; border-radius: 8px; text-align: center; margin-top: 20px; margin-bottom: 20px;\">\n",
    "    <h1 style=\"color: white; margin: 0;\">Index</h1>\n",
    "</div>\n",
    "\n",
    "1. [Data Understanding](#Data-Understanding)\n",
    "2. [Data Preparation](#Data-Preparation)\n",
    "3. [Feature Selection](#Feature-Selection)\n",
    "4. [Scaling](#Scaling)\n",
    "5. [Clustering](#Clustering)"
   ]
  },
  {
   "cell_type": "markdown",
   "id": "667b47f7-39f1-487b-a8d4-abf82825756a",
   "metadata": {},
   "source": [
    "<a id = \"Data-Understanding\"></a>\n",
    "    \n",
    "<div style=\"background-color: #8FC93A; padding: 10px; border-radius: 8px; text-align: center; margin-top: 20px; margin-bottom: 20px;\">\n",
    "    <h1 style=\"color: white; margin: 0;\">Data Understanding</h1>\n",
    "</div>\n",
    "\n",
    "[1.1 Data Loading and Description](#Data-Load)\n",
    "\n",
    "[1.2 Data Visualization](#Data-Vizualization)\n"
   ]
  },
  {
   "cell_type": "markdown",
   "id": "9827b848-5a91-468a-ae93-c14406743001",
   "metadata": {},
   "source": [
    "<a id = \"Data-Load\"></a>\n",
    "\n",
    "<div style=\"background-color: #006B3F; padding: 10px; border-radius: 8px; text-align: center; margin-top: 20px; margin-bottom: 20px;\">\n",
    "    <h3 style=\"color: white; margin: 0;\">1.2. Data Loading and Description </h3>\n",
    "</div>\n",
    "\n",
    "- [Data Shape](#ds)\n",
    "- [Data Types](#dt)\n",
    "- [Summary Statistics](#ss)\n",
    "\n",
    "[Back to Index](#Index)"
   ]
  },
  {
   "cell_type": "code",
   "execution_count": 6,
   "id": "fce36810-0ae5-4932-8630-defe9d415e09",
   "metadata": {},
   "outputs": [],
   "source": [
    "excel_file= \"Case3_Recheio_2025.xlsx\""
   ]
  },
  {
   "cell_type": "code",
   "execution_count": 7,
   "id": "417bbe80-ac8a-4a55-9426-6751b7afe4ad",
   "metadata": {},
   "outputs": [],
   "source": [
    "clients_df = pd.read_excel(excel_file, sheet_name='1. CLIENTS')\n",
    "products_df = pd.read_excel(excel_file, sheet_name='2. PRODUCTS')\n",
    "transactions_df = pd.read_excel(excel_file, sheet_name='3. TRANSACTIONS')"
   ]
  },
  {
   "cell_type": "markdown",
   "id": "a31d9277-b89d-4a91-a111-ff548911cde7",
   "metadata": {},
   "source": [
    "<div style=\"background-color: #1D1D1B; padding: 10px; border-radius: 8px; text-align: center; margin-top: 20px; margin-bottom: 20px;\">\n",
    "    <h2 style=\"color: white; margin: 0;\">Clients</h2>\n",
    "</div>"
   ]
  },
  {
   "cell_type": "code",
   "execution_count": 8,
   "id": "ce2a343b-8349-40ab-aa72-09e9a242c513",
   "metadata": {},
   "outputs": [
    {
     "data": {
      "text/html": [
       "<div>\n",
       "<style scoped>\n",
       "    .dataframe tbody tr th:only-of-type {\n",
       "        vertical-align: middle;\n",
       "    }\n",
       "\n",
       "    .dataframe tbody tr th {\n",
       "        vertical-align: top;\n",
       "    }\n",
       "\n",
       "    .dataframe thead th {\n",
       "        text-align: right;\n",
       "    }\n",
       "</style>\n",
       "<table border=\"1\" class=\"dataframe\">\n",
       "  <thead>\n",
       "    <tr style=\"text-align: right;\">\n",
       "      <th></th>\n",
       "      <th>Unnamed: 0</th>\n",
       "      <th>Unnamed: 1</th>\n",
       "      <th>Unnamed: 2</th>\n",
       "      <th>Unnamed: 3</th>\n",
       "    </tr>\n",
       "  </thead>\n",
       "  <tbody>\n",
       "    <tr>\n",
       "      <th>0</th>\n",
       "      <td>NaN</td>\n",
       "      <td>Client ID</td>\n",
       "      <td>ZIP Code</td>\n",
       "      <td>ID Client Type</td>\n",
       "    </tr>\n",
       "    <tr>\n",
       "      <th>1</th>\n",
       "      <td>NaN</td>\n",
       "      <td>210100002</td>\n",
       "      <td>4049</td>\n",
       "      <td>NaN</td>\n",
       "    </tr>\n",
       "    <tr>\n",
       "      <th>2</th>\n",
       "      <td>NaN</td>\n",
       "      <td>210100003</td>\n",
       "      <td>4000</td>\n",
       "      <td>NaN</td>\n",
       "    </tr>\n",
       "    <tr>\n",
       "      <th>3</th>\n",
       "      <td>NaN</td>\n",
       "      <td>210100004</td>\n",
       "      <td>4149</td>\n",
       "      <td>NaN</td>\n",
       "    </tr>\n",
       "    <tr>\n",
       "      <th>4</th>\n",
       "      <td>NaN</td>\n",
       "      <td>210100005</td>\n",
       "      <td>4100</td>\n",
       "      <td>Hotelaria</td>\n",
       "    </tr>\n",
       "  </tbody>\n",
       "</table>\n",
       "</div>"
      ],
      "text/plain": [
       "   Unnamed: 0 Unnamed: 1 Unnamed: 2      Unnamed: 3\n",
       "0         NaN  Client ID   ZIP Code  ID Client Type\n",
       "1         NaN  210100002       4049             NaN\n",
       "2         NaN  210100003       4000             NaN\n",
       "3         NaN  210100004       4149             NaN\n",
       "4         NaN  210100005       4100       Hotelaria"
      ]
     },
     "execution_count": 8,
     "metadata": {},
     "output_type": "execute_result"
    }
   ],
   "source": [
    "clients_df.head()"
   ]
  },
  {
   "cell_type": "markdown",
   "id": "b09f2992-78dd-4626-89ea-33146baae6d6",
   "metadata": {},
   "source": [
    "+ We can eliminate the first tow\n",
    "+ Check if the first column contains values otherwise we can eliminate it too"
   ]
  },
  {
   "cell_type": "code",
   "execution_count": 9,
   "id": "5ab9a7c6-7915-485c-809c-bbc2526ec9c0",
   "metadata": {},
   "outputs": [],
   "source": [
    "clients_df.columns = clients_df.iloc[0]  # Defining the firts row names as the column names\n",
    "clients_df = clients_df[1:].reset_index(drop=True) # eliminate the row with the previous column names"
   ]
  },
  {
   "cell_type": "code",
   "execution_count": 10,
   "id": "35cc8147-3f51-4ced-b467-0f2c0262f47c",
   "metadata": {},
   "outputs": [
    {
     "data": {
      "text/html": [
       "<div>\n",
       "<style scoped>\n",
       "    .dataframe tbody tr th:only-of-type {\n",
       "        vertical-align: middle;\n",
       "    }\n",
       "\n",
       "    .dataframe tbody tr th {\n",
       "        vertical-align: top;\n",
       "    }\n",
       "\n",
       "    .dataframe thead th {\n",
       "        text-align: right;\n",
       "    }\n",
       "</style>\n",
       "<table border=\"1\" class=\"dataframe\">\n",
       "  <thead>\n",
       "    <tr style=\"text-align: right;\">\n",
       "      <th></th>\n",
       "      <th>NaN</th>\n",
       "      <th>Client ID</th>\n",
       "      <th>ZIP Code</th>\n",
       "      <th>ID Client Type</th>\n",
       "    </tr>\n",
       "  </thead>\n",
       "  <tbody>\n",
       "    <tr>\n",
       "      <th>0</th>\n",
       "      <td>NaN</td>\n",
       "      <td>210100002</td>\n",
       "      <td>4049</td>\n",
       "      <td>NaN</td>\n",
       "    </tr>\n",
       "    <tr>\n",
       "      <th>1</th>\n",
       "      <td>NaN</td>\n",
       "      <td>210100003</td>\n",
       "      <td>4000</td>\n",
       "      <td>NaN</td>\n",
       "    </tr>\n",
       "    <tr>\n",
       "      <th>2</th>\n",
       "      <td>NaN</td>\n",
       "      <td>210100004</td>\n",
       "      <td>4149</td>\n",
       "      <td>NaN</td>\n",
       "    </tr>\n",
       "    <tr>\n",
       "      <th>3</th>\n",
       "      <td>NaN</td>\n",
       "      <td>210100005</td>\n",
       "      <td>4100</td>\n",
       "      <td>Hotelaria</td>\n",
       "    </tr>\n",
       "    <tr>\n",
       "      <th>4</th>\n",
       "      <td>NaN</td>\n",
       "      <td>210100006</td>\n",
       "      <td>4405</td>\n",
       "      <td>NaN</td>\n",
       "    </tr>\n",
       "  </tbody>\n",
       "</table>\n",
       "</div>"
      ],
      "text/plain": [
       "0  NaN  Client ID ZIP Code ID Client Type\n",
       "0  NaN  210100002     4049            NaN\n",
       "1  NaN  210100003     4000            NaN\n",
       "2  NaN  210100004     4149            NaN\n",
       "3  NaN  210100005     4100      Hotelaria\n",
       "4  NaN  210100006     4405            NaN"
      ]
     },
     "execution_count": 10,
     "metadata": {},
     "output_type": "execute_result"
    }
   ],
   "source": [
    "clients_df.head()"
   ]
  },
  {
   "cell_type": "markdown",
   "id": "7a94fba7-a2e1-4b77-a81e-80de0933a671",
   "metadata": {},
   "source": [
    "<a id = \"ds\"></a>\n",
    "\n",
    "<div style=\"background-color: #006B3F; padding: 10px; border-radius: 8px; text-align: center; margin-top: 20px; margin-bottom: 20px;\">\n",
    "    <h4 style=\"color: white; margin: 0;\">Data Shape</h4>\n",
    "</div>"
   ]
  },
  {
   "cell_type": "code",
   "execution_count": 11,
   "id": "6fe83e23-2ccf-49e7-a5f5-42e79b250e4f",
   "metadata": {},
   "outputs": [
    {
     "data": {
      "text/plain": [
       "(6462, 4)"
      ]
     },
     "execution_count": 11,
     "metadata": {},
     "output_type": "execute_result"
    }
   ],
   "source": [
    "# Shape (no rows,no columns)\n",
    "clients_df.shape"
   ]
  },
  {
   "cell_type": "markdown",
   "id": "443bd189-459d-4ef2-a603-ff91df9d30da",
   "metadata": {},
   "source": [
    "+ The dataset has 6462 rows and 4 columns"
   ]
  },
  {
   "cell_type": "code",
   "execution_count": 12,
   "id": "e2be36f8-7057-4a50-ac6d-8c87ddb98299",
   "metadata": {},
   "outputs": [
    {
     "data": {
      "text/plain": [
       "0\n",
       "NaN               6462\n",
       "Client ID            0\n",
       "ZIP Code             0\n",
       "ID Client Type    5782\n",
       "dtype: int64"
      ]
     },
     "execution_count": 12,
     "metadata": {},
     "output_type": "execute_result"
    }
   ],
   "source": [
    "# Missing Values\n",
    "clients_df.isna().sum()"
   ]
  },
  {
   "cell_type": "markdown",
   "id": "7073d01d-4286-4803-a54d-95db288c49c8",
   "metadata": {},
   "source": [
    "+ Once the first column only contains Nan values, we can exclude it"
   ]
  },
  {
   "cell_type": "code",
   "execution_count": 13,
   "id": "d6254875-8ff0-4dac-aba9-0777283dca57",
   "metadata": {},
   "outputs": [],
   "source": [
    "# Exclude the first column\n",
    "clients_df = clients_df.iloc[:, 1:]\n"
   ]
  },
  {
   "cell_type": "code",
   "execution_count": 14,
   "id": "dcf146c0-5800-41b8-b880-8132ab586d1a",
   "metadata": {},
   "outputs": [
    {
     "data": {
      "text/html": [
       "<div>\n",
       "<style scoped>\n",
       "    .dataframe tbody tr th:only-of-type {\n",
       "        vertical-align: middle;\n",
       "    }\n",
       "\n",
       "    .dataframe tbody tr th {\n",
       "        vertical-align: top;\n",
       "    }\n",
       "\n",
       "    .dataframe thead th {\n",
       "        text-align: right;\n",
       "    }\n",
       "</style>\n",
       "<table border=\"1\" class=\"dataframe\">\n",
       "  <thead>\n",
       "    <tr style=\"text-align: right;\">\n",
       "      <th></th>\n",
       "      <th>Client ID</th>\n",
       "      <th>ZIP Code</th>\n",
       "      <th>ID Client Type</th>\n",
       "    </tr>\n",
       "  </thead>\n",
       "  <tbody>\n",
       "    <tr>\n",
       "      <th>0</th>\n",
       "      <td>210100002</td>\n",
       "      <td>4049</td>\n",
       "      <td>NaN</td>\n",
       "    </tr>\n",
       "    <tr>\n",
       "      <th>1</th>\n",
       "      <td>210100003</td>\n",
       "      <td>4000</td>\n",
       "      <td>NaN</td>\n",
       "    </tr>\n",
       "    <tr>\n",
       "      <th>2</th>\n",
       "      <td>210100004</td>\n",
       "      <td>4149</td>\n",
       "      <td>NaN</td>\n",
       "    </tr>\n",
       "  </tbody>\n",
       "</table>\n",
       "</div>"
      ],
      "text/plain": [
       "0  Client ID ZIP Code ID Client Type\n",
       "0  210100002     4049            NaN\n",
       "1  210100003     4000            NaN\n",
       "2  210100004     4149            NaN"
      ]
     },
     "execution_count": 14,
     "metadata": {},
     "output_type": "execute_result"
    }
   ],
   "source": [
    "clients_df.head(3)"
   ]
  },
  {
   "cell_type": "code",
   "execution_count": 15,
   "id": "afc34d5b-8f2b-4ac1-afe3-c1aa522113f8",
   "metadata": {},
   "outputs": [],
   "source": [
    "# doing a copy of the dataframe cleaned\n",
    "clients_df_copy = clients_df.copy()"
   ]
  },
  {
   "cell_type": "markdown",
   "id": "ec70e79c-e21e-4092-909f-57b27728ddaa",
   "metadata": {},
   "source": [
    "<a id = \"dt\"></a>\n",
    "\n",
    "<div style=\"background-color: #006B3F; padding: 10px; border-radius: 8px; text-align: center; margin-top: 20px; margin-bottom: 20px;\">\n",
    "    <h4 style=\"color: white; margin: 0;\">Data Types</h4>\n",
    "</div>\n"
   ]
  },
  {
   "cell_type": "code",
   "execution_count": 16,
   "id": "4519e738-bc80-4184-bb2d-b9813ffac521",
   "metadata": {},
   "outputs": [
    {
     "name": "stdout",
     "output_type": "stream",
     "text": [
      "<class 'pandas.core.frame.DataFrame'>\n",
      "RangeIndex: 6462 entries, 0 to 6461\n",
      "Data columns (total 3 columns):\n",
      " #   Column          Non-Null Count  Dtype \n",
      "---  ------          --------------  ----- \n",
      " 0   Client ID       6462 non-null   object\n",
      " 1   ZIP Code        6462 non-null   object\n",
      " 2   ID Client Type  680 non-null    object\n",
      "dtypes: object(3)\n",
      "memory usage: 151.6+ KB\n"
     ]
    }
   ],
   "source": [
    "clients_df.info()\n"
   ]
  },
  {
   "cell_type": "markdown",
   "id": "852d3dd4-1da1-40f7-8d2d-b8e0ffee60c2",
   "metadata": {},
   "source": [
    "All the existing columns are categorical and there are no missing values "
   ]
  },
  {
   "cell_type": "markdown",
   "id": "04ecf68e-0a87-4a29-99aa-39440dacf8e2",
   "metadata": {},
   "source": [
    "<a id = \"ss\"></a>\n",
    "\n",
    "<div style=\"background-color: #006B3F; padding: 10px; border-radius: 8px; text-align: center; margin-top: 20px; margin-bottom: 20px;\">\n",
    "    <h4 style=\"color: white; margin: 0;\">Summary Statistics</h4>\n",
    "</div>"
   ]
  },
  {
   "cell_type": "code",
   "execution_count": 17,
   "id": "c9ace17b-2687-4f75-801c-9a5a6d547c91",
   "metadata": {},
   "outputs": [
    {
     "data": {
      "text/html": [
       "<div>\n",
       "<style scoped>\n",
       "    .dataframe tbody tr th:only-of-type {\n",
       "        vertical-align: middle;\n",
       "    }\n",
       "\n",
       "    .dataframe tbody tr th {\n",
       "        vertical-align: top;\n",
       "    }\n",
       "\n",
       "    .dataframe thead th {\n",
       "        text-align: right;\n",
       "    }\n",
       "</style>\n",
       "<table border=\"1\" class=\"dataframe\">\n",
       "  <thead>\n",
       "    <tr style=\"text-align: right;\">\n",
       "      <th></th>\n",
       "      <th>count</th>\n",
       "      <th>unique</th>\n",
       "      <th>top</th>\n",
       "      <th>freq</th>\n",
       "    </tr>\n",
       "    <tr>\n",
       "      <th>0</th>\n",
       "      <th></th>\n",
       "      <th></th>\n",
       "      <th></th>\n",
       "      <th></th>\n",
       "    </tr>\n",
       "  </thead>\n",
       "  <tbody>\n",
       "    <tr>\n",
       "      <th>Client ID</th>\n",
       "      <td>6462</td>\n",
       "      <td>6462</td>\n",
       "      <td>210100002</td>\n",
       "      <td>1</td>\n",
       "    </tr>\n",
       "    <tr>\n",
       "      <th>ZIP Code</th>\n",
       "      <td>6462</td>\n",
       "      <td>261</td>\n",
       "      <td>4050</td>\n",
       "      <td>927</td>\n",
       "    </tr>\n",
       "    <tr>\n",
       "      <th>ID Client Type</th>\n",
       "      <td>680</td>\n",
       "      <td>26</td>\n",
       "      <td>Hotelaria</td>\n",
       "      <td>231</td>\n",
       "    </tr>\n",
       "  </tbody>\n",
       "</table>\n",
       "</div>"
      ],
      "text/plain": [
       "               count unique        top freq\n",
       "0                                          \n",
       "Client ID       6462   6462  210100002    1\n",
       "ZIP Code        6462    261       4050  927\n",
       "ID Client Type   680     26  Hotelaria  231"
      ]
     },
     "execution_count": 17,
     "metadata": {},
     "output_type": "execute_result"
    }
   ],
   "source": [
    "# Summary statistics for discrete variables\n",
    "clients_df.describe(include='all').T"
   ]
  },
  {
   "cell_type": "markdown",
   "id": "fcd4186f-e45d-49ce-8099-997ed831359f",
   "metadata": {},
   "source": [
    "+ **Client_ID**: All values are unique\n",
    "+ **ZIP Code**: There are 261 different Codes\n",
    "+ **ID Client Type**: There are 26 different types of customers"
   ]
  },
  {
   "cell_type": "markdown",
   "id": "c0ff2940-0cb1-46d6-ad1c-69127ae0394d",
   "metadata": {},
   "source": [
    "<div style=\"background-color: #1D1D1B; padding: 10px; border-radius: 8px; text-align: center; margin-top: 20px; margin-bottom: 20px;\">\n",
    "    <h2 style=\"color: white; margin: 0;\">Products</h2>\n",
    "</div>"
   ]
  },
  {
   "cell_type": "code",
   "execution_count": 18,
   "id": "375a9ccd-334e-4c49-bf0c-f7ea395bb6c0",
   "metadata": {},
   "outputs": [
    {
     "data": {
      "text/html": [
       "<div>\n",
       "<style scoped>\n",
       "    .dataframe tbody tr th:only-of-type {\n",
       "        vertical-align: middle;\n",
       "    }\n",
       "\n",
       "    .dataframe tbody tr th {\n",
       "        vertical-align: top;\n",
       "    }\n",
       "\n",
       "    .dataframe thead th {\n",
       "        text-align: right;\n",
       "    }\n",
       "</style>\n",
       "<table border=\"1\" class=\"dataframe\">\n",
       "  <thead>\n",
       "    <tr style=\"text-align: right;\">\n",
       "      <th></th>\n",
       "      <th>Unnamed: 0</th>\n",
       "      <th>Unnamed: 1</th>\n",
       "      <th>Unnamed: 2</th>\n",
       "      <th>Unnamed: 3</th>\n",
       "    </tr>\n",
       "  </thead>\n",
       "  <tbody>\n",
       "    <tr>\n",
       "      <th>0</th>\n",
       "      <td>NaN</td>\n",
       "      <td>ID Product</td>\n",
       "      <td>Product Description</td>\n",
       "      <td>ID Product Category</td>\n",
       "    </tr>\n",
       "    <tr>\n",
       "      <th>1</th>\n",
       "      <td>NaN</td>\n",
       "      <td>224780</td>\n",
       "      <td>FARINHA ESPIGA AMIDO MILHO LUS.2KG</td>\n",
       "      <td>FARINHAS</td>\n",
       "    </tr>\n",
       "    <tr>\n",
       "      <th>2</th>\n",
       "      <td>NaN</td>\n",
       "      <td>276806</td>\n",
       "      <td>LARANJA CAL7 (67/76) RCH</td>\n",
       "      <td>FRUTAS FRESCAS</td>\n",
       "    </tr>\n",
       "    <tr>\n",
       "      <th>3</th>\n",
       "      <td>NaN</td>\n",
       "      <td>276809</td>\n",
       "      <td>LIMAO CAL 3/4 RCH</td>\n",
       "      <td>FRUTAS FRESCAS</td>\n",
       "    </tr>\n",
       "    <tr>\n",
       "      <th>4</th>\n",
       "      <td>NaN</td>\n",
       "      <td>277674</td>\n",
       "      <td>COGUMELO BRANCO MÉDIO RCH</td>\n",
       "      <td>LEGUMES FRESCOS</td>\n",
       "    </tr>\n",
       "  </tbody>\n",
       "</table>\n",
       "</div>"
      ],
      "text/plain": [
       "   Unnamed: 0  Unnamed: 1                          Unnamed: 2  \\\n",
       "0         NaN  ID Product                 Product Description   \n",
       "1         NaN      224780  FARINHA ESPIGA AMIDO MILHO LUS.2KG   \n",
       "2         NaN      276806            LARANJA CAL7 (67/76) RCH   \n",
       "3         NaN      276809                   LIMAO CAL 3/4 RCH   \n",
       "4         NaN      277674           COGUMELO BRANCO MÉDIO RCH   \n",
       "\n",
       "            Unnamed: 3  \n",
       "0  ID Product Category  \n",
       "1             FARINHAS  \n",
       "2       FRUTAS FRESCAS  \n",
       "3       FRUTAS FRESCAS  \n",
       "4      LEGUMES FRESCOS  "
      ]
     },
     "execution_count": 18,
     "metadata": {},
     "output_type": "execute_result"
    }
   ],
   "source": [
    "products_df.head()"
   ]
  },
  {
   "cell_type": "code",
   "execution_count": 19,
   "id": "a5dd3cc1-2b74-4e16-94cc-1685fa1658f1",
   "metadata": {},
   "outputs": [],
   "source": [
    "products_df.columns = products_df.iloc[0]  # Defining the firts row names as the column names\n",
    "products_df = products_df[1:].reset_index(drop=True) # eliminate the row with the previous column names"
   ]
  },
  {
   "cell_type": "code",
   "execution_count": 20,
   "id": "e74684ca-3ed5-4ffb-a158-91c5080093d6",
   "metadata": {},
   "outputs": [
    {
     "data": {
      "text/html": [
       "<div>\n",
       "<style scoped>\n",
       "    .dataframe tbody tr th:only-of-type {\n",
       "        vertical-align: middle;\n",
       "    }\n",
       "\n",
       "    .dataframe tbody tr th {\n",
       "        vertical-align: top;\n",
       "    }\n",
       "\n",
       "    .dataframe thead th {\n",
       "        text-align: right;\n",
       "    }\n",
       "</style>\n",
       "<table border=\"1\" class=\"dataframe\">\n",
       "  <thead>\n",
       "    <tr style=\"text-align: right;\">\n",
       "      <th></th>\n",
       "      <th>NaN</th>\n",
       "      <th>ID Product</th>\n",
       "      <th>Product Description</th>\n",
       "      <th>ID Product Category</th>\n",
       "    </tr>\n",
       "  </thead>\n",
       "  <tbody>\n",
       "    <tr>\n",
       "      <th>0</th>\n",
       "      <td>NaN</td>\n",
       "      <td>224780</td>\n",
       "      <td>FARINHA ESPIGA AMIDO MILHO LUS.2KG</td>\n",
       "      <td>FARINHAS</td>\n",
       "    </tr>\n",
       "    <tr>\n",
       "      <th>1</th>\n",
       "      <td>NaN</td>\n",
       "      <td>276806</td>\n",
       "      <td>LARANJA CAL7 (67/76) RCH</td>\n",
       "      <td>FRUTAS FRESCAS</td>\n",
       "    </tr>\n",
       "    <tr>\n",
       "      <th>2</th>\n",
       "      <td>NaN</td>\n",
       "      <td>276809</td>\n",
       "      <td>LIMAO CAL 3/4 RCH</td>\n",
       "      <td>FRUTAS FRESCAS</td>\n",
       "    </tr>\n",
       "    <tr>\n",
       "      <th>3</th>\n",
       "      <td>NaN</td>\n",
       "      <td>277674</td>\n",
       "      <td>COGUMELO BRANCO MÉDIO RCH</td>\n",
       "      <td>LEGUMES FRESCOS</td>\n",
       "    </tr>\n",
       "    <tr>\n",
       "      <th>4</th>\n",
       "      <td>NaN</td>\n",
       "      <td>277917</td>\n",
       "      <td>TOMATE BB 67/82 1CAM RCH</td>\n",
       "      <td>LEGUMES FRESCOS</td>\n",
       "    </tr>\n",
       "  </tbody>\n",
       "</table>\n",
       "</div>"
      ],
      "text/plain": [
       "0  NaN ID Product                 Product Description ID Product Category\n",
       "0  NaN     224780  FARINHA ESPIGA AMIDO MILHO LUS.2KG            FARINHAS\n",
       "1  NaN     276806            LARANJA CAL7 (67/76) RCH      FRUTAS FRESCAS\n",
       "2  NaN     276809                   LIMAO CAL 3/4 RCH      FRUTAS FRESCAS\n",
       "3  NaN     277674           COGUMELO BRANCO MÉDIO RCH     LEGUMES FRESCOS\n",
       "4  NaN     277917            TOMATE BB 67/82 1CAM RCH     LEGUMES FRESCOS"
      ]
     },
     "execution_count": 20,
     "metadata": {},
     "output_type": "execute_result"
    }
   ],
   "source": [
    "products_df.head()"
   ]
  },
  {
   "cell_type": "markdown",
   "id": "c79443bf-ffb0-407e-9c1e-6e39839da9d6",
   "metadata": {},
   "source": [
    "<a id = \"ds\"></a>\n",
    "\n",
    "<div style=\"background-color: #006B3F; padding: 10px; border-radius: 8px; text-align: center; margin-top: 20px; margin-bottom: 20px;\">\n",
    "    <h4 style=\"color: white; margin: 0;\">Data Shape</h4>\n",
    "</div>"
   ]
  },
  {
   "cell_type": "code",
   "execution_count": 21,
   "id": "8d845835-cee0-4a77-bfeb-d5405944849f",
   "metadata": {},
   "outputs": [
    {
     "data": {
      "text/plain": [
       "(4583, 4)"
      ]
     },
     "execution_count": 21,
     "metadata": {},
     "output_type": "execute_result"
    }
   ],
   "source": [
    "# Shape (no rows,no columns)\n",
    "products_df.shape"
   ]
  },
  {
   "cell_type": "markdown",
   "id": "699f20ba-653d-4328-a6da-8e39757b4eef",
   "metadata": {},
   "source": [
    "+ The dataset has 4583 rows and 4 columns"
   ]
  },
  {
   "cell_type": "code",
   "execution_count": 22,
   "id": "8721f1bb-69cf-4c0d-baf0-d7df715a3144",
   "metadata": {},
   "outputs": [
    {
     "data": {
      "text/plain": [
       "0\n",
       "NaN                    4583\n",
       "ID Product                0\n",
       "Product Description       0\n",
       "ID Product Category       0\n",
       "dtype: int64"
      ]
     },
     "execution_count": 22,
     "metadata": {},
     "output_type": "execute_result"
    }
   ],
   "source": [
    "# Missing Values\n",
    "products_df.isna().sum()"
   ]
  },
  {
   "cell_type": "code",
   "execution_count": 23,
   "id": "fa78554c-a87a-4442-ab28-8a9495d0f22c",
   "metadata": {},
   "outputs": [],
   "source": [
    "# Exclude the first column\n",
    "products_df = products_df.iloc[:, 1:]\n"
   ]
  },
  {
   "cell_type": "code",
   "execution_count": 24,
   "id": "b1caffc6-88ac-4c43-86d4-52878736fc51",
   "metadata": {},
   "outputs": [
    {
     "data": {
      "text/html": [
       "<div>\n",
       "<style scoped>\n",
       "    .dataframe tbody tr th:only-of-type {\n",
       "        vertical-align: middle;\n",
       "    }\n",
       "\n",
       "    .dataframe tbody tr th {\n",
       "        vertical-align: top;\n",
       "    }\n",
       "\n",
       "    .dataframe thead th {\n",
       "        text-align: right;\n",
       "    }\n",
       "</style>\n",
       "<table border=\"1\" class=\"dataframe\">\n",
       "  <thead>\n",
       "    <tr style=\"text-align: right;\">\n",
       "      <th></th>\n",
       "      <th>ID Product</th>\n",
       "      <th>Product Description</th>\n",
       "      <th>ID Product Category</th>\n",
       "    </tr>\n",
       "  </thead>\n",
       "  <tbody>\n",
       "    <tr>\n",
       "      <th>0</th>\n",
       "      <td>224780</td>\n",
       "      <td>FARINHA ESPIGA AMIDO MILHO LUS.2KG</td>\n",
       "      <td>FARINHAS</td>\n",
       "    </tr>\n",
       "    <tr>\n",
       "      <th>1</th>\n",
       "      <td>276806</td>\n",
       "      <td>LARANJA CAL7 (67/76) RCH</td>\n",
       "      <td>FRUTAS FRESCAS</td>\n",
       "    </tr>\n",
       "    <tr>\n",
       "      <th>2</th>\n",
       "      <td>276809</td>\n",
       "      <td>LIMAO CAL 3/4 RCH</td>\n",
       "      <td>FRUTAS FRESCAS</td>\n",
       "    </tr>\n",
       "    <tr>\n",
       "      <th>3</th>\n",
       "      <td>277674</td>\n",
       "      <td>COGUMELO BRANCO MÉDIO RCH</td>\n",
       "      <td>LEGUMES FRESCOS</td>\n",
       "    </tr>\n",
       "    <tr>\n",
       "      <th>4</th>\n",
       "      <td>277917</td>\n",
       "      <td>TOMATE BB 67/82 1CAM RCH</td>\n",
       "      <td>LEGUMES FRESCOS</td>\n",
       "    </tr>\n",
       "  </tbody>\n",
       "</table>\n",
       "</div>"
      ],
      "text/plain": [
       "0 ID Product                 Product Description ID Product Category\n",
       "0     224780  FARINHA ESPIGA AMIDO MILHO LUS.2KG            FARINHAS\n",
       "1     276806            LARANJA CAL7 (67/76) RCH      FRUTAS FRESCAS\n",
       "2     276809                   LIMAO CAL 3/4 RCH      FRUTAS FRESCAS\n",
       "3     277674           COGUMELO BRANCO MÉDIO RCH     LEGUMES FRESCOS\n",
       "4     277917            TOMATE BB 67/82 1CAM RCH     LEGUMES FRESCOS"
      ]
     },
     "execution_count": 24,
     "metadata": {},
     "output_type": "execute_result"
    }
   ],
   "source": [
    "products_df.head()"
   ]
  },
  {
   "cell_type": "code",
   "execution_count": 25,
   "id": "b80d9847-eefb-4f50-bba3-0da60fd51d20",
   "metadata": {},
   "outputs": [],
   "source": [
    "# doing a copy of the dataframe cleaned\n",
    "products_df_copy = products_df.copy()"
   ]
  },
  {
   "cell_type": "markdown",
   "id": "71533679-0c8b-4438-a7b0-0cc661e8aa00",
   "metadata": {},
   "source": [
    "<a id = \"dt\"></a>\n",
    "\n",
    "<div style=\"background-color: #006B3F; padding: 10px; border-radius: 8px; text-align: center; margin-top: 20px; margin-bottom: 20px;\">\n",
    "    <h4 style=\"color: white; margin: 0;\">Data Types</h4>\n",
    "</div>"
   ]
  },
  {
   "cell_type": "code",
   "execution_count": 26,
   "id": "400e94c8-40b1-44aa-80dd-7c3e3278c387",
   "metadata": {},
   "outputs": [
    {
     "name": "stdout",
     "output_type": "stream",
     "text": [
      "<class 'pandas.core.frame.DataFrame'>\n",
      "RangeIndex: 4583 entries, 0 to 4582\n",
      "Data columns (total 3 columns):\n",
      " #   Column               Non-Null Count  Dtype \n",
      "---  ------               --------------  ----- \n",
      " 0   ID Product           4583 non-null   object\n",
      " 1   Product Description  4583 non-null   object\n",
      " 2   ID Product Category  4583 non-null   object\n",
      "dtypes: object(3)\n",
      "memory usage: 107.5+ KB\n"
     ]
    }
   ],
   "source": [
    "products_df.info()"
   ]
  },
  {
   "cell_type": "markdown",
   "id": "c5fb1577-25ae-4eaf-a33d-bc2094b3a9c9",
   "metadata": {},
   "source": [
    "<a id = \"ss\"></a>\n",
    "\n",
    "<div style=\"background-color: #006B3F; padding: 10px; border-radius: 8px; text-align: center; margin-top: 20px; margin-bottom: 20px;\">\n",
    "    <h4 style=\"color: white; margin: 0;\">Summary Statistics</h4>\n",
    "</div>"
   ]
  },
  {
   "cell_type": "code",
   "execution_count": 27,
   "id": "dab02265-5767-4cf2-95ce-fc8154080798",
   "metadata": {},
   "outputs": [
    {
     "data": {
      "text/html": [
       "<div>\n",
       "<style scoped>\n",
       "    .dataframe tbody tr th:only-of-type {\n",
       "        vertical-align: middle;\n",
       "    }\n",
       "\n",
       "    .dataframe tbody tr th {\n",
       "        vertical-align: top;\n",
       "    }\n",
       "\n",
       "    .dataframe thead th {\n",
       "        text-align: right;\n",
       "    }\n",
       "</style>\n",
       "<table border=\"1\" class=\"dataframe\">\n",
       "  <thead>\n",
       "    <tr style=\"text-align: right;\">\n",
       "      <th></th>\n",
       "      <th>count</th>\n",
       "      <th>unique</th>\n",
       "      <th>top</th>\n",
       "      <th>freq</th>\n",
       "    </tr>\n",
       "    <tr>\n",
       "      <th>0</th>\n",
       "      <th></th>\n",
       "      <th></th>\n",
       "      <th></th>\n",
       "      <th></th>\n",
       "    </tr>\n",
       "  </thead>\n",
       "  <tbody>\n",
       "    <tr>\n",
       "      <th>ID Product</th>\n",
       "      <td>4583</td>\n",
       "      <td>4583</td>\n",
       "      <td>224780</td>\n",
       "      <td>1</td>\n",
       "    </tr>\n",
       "    <tr>\n",
       "      <th>Product Description</th>\n",
       "      <td>4583</td>\n",
       "      <td>4573</td>\n",
       "      <td>CABO ESFREGONA VILEDA SUPER 1UN</td>\n",
       "      <td>2</td>\n",
       "    </tr>\n",
       "    <tr>\n",
       "      <th>ID Product Category</th>\n",
       "      <td>4583</td>\n",
       "      <td>268</td>\n",
       "      <td>VINHOS TINTOS</td>\n",
       "      <td>175</td>\n",
       "    </tr>\n",
       "  </tbody>\n",
       "</table>\n",
       "</div>"
      ],
      "text/plain": [
       "                    count unique                              top freq\n",
       "0                                                                     \n",
       "ID Product           4583   4583                           224780    1\n",
       "Product Description  4583   4573  CABO ESFREGONA VILEDA SUPER 1UN    2\n",
       "ID Product Category  4583    268                    VINHOS TINTOS  175"
      ]
     },
     "execution_count": 27,
     "metadata": {},
     "output_type": "execute_result"
    }
   ],
   "source": [
    "# Summary statistics for discrete variables\n",
    "products_df.describe(include='all').T"
   ]
  },
  {
   "cell_type": "markdown",
   "id": "f57394ac-cd1d-4c28-b13e-19d0a2a7ef1c",
   "metadata": {},
   "source": [
    "+ **ID Product**: All values are unique\n",
    "+ **Product Description**: There are 4573 different descriptions\n",
    "+ **ID Product Category**: There are 268 different types of products"
   ]
  },
  {
   "cell_type": "markdown",
   "id": "082c28c2-a911-47d2-b462-7affaa9ec469",
   "metadata": {},
   "source": [
    "<div style=\"background-color: #1D1D1B; padding: 10px; border-radius: 8px; text-align: center; margin-top: 20px; margin-bottom: 20px;\">\n",
    "    <h2 style=\"color: white; margin: 0;\">Transactions</h2>\n",
    "</div>"
   ]
  },
  {
   "cell_type": "code",
   "execution_count": 28,
   "id": "ee090b1f-cb99-4e61-9108-0249fbb913f9",
   "metadata": {},
   "outputs": [
    {
     "data": {
      "text/html": [
       "<div>\n",
       "<style scoped>\n",
       "    .dataframe tbody tr th:only-of-type {\n",
       "        vertical-align: middle;\n",
       "    }\n",
       "\n",
       "    .dataframe tbody tr th {\n",
       "        vertical-align: top;\n",
       "    }\n",
       "\n",
       "    .dataframe thead th {\n",
       "        text-align: right;\n",
       "    }\n",
       "</style>\n",
       "<table border=\"1\" class=\"dataframe\">\n",
       "  <thead>\n",
       "    <tr style=\"text-align: right;\">\n",
       "      <th></th>\n",
       "      <th>Unnamed: 0</th>\n",
       "      <th>Unnamed: 1</th>\n",
       "      <th>Unnamed: 2</th>\n",
       "      <th>Unnamed: 3</th>\n",
       "    </tr>\n",
       "  </thead>\n",
       "  <tbody>\n",
       "    <tr>\n",
       "      <th>0</th>\n",
       "      <td>NaN</td>\n",
       "      <td>Date</td>\n",
       "      <td>Client ID</td>\n",
       "      <td>ID Product</td>\n",
       "    </tr>\n",
       "    <tr>\n",
       "      <th>1</th>\n",
       "      <td>NaN</td>\n",
       "      <td>2022-01-02 00:00:00</td>\n",
       "      <td>210100281</td>\n",
       "      <td>224780</td>\n",
       "    </tr>\n",
       "    <tr>\n",
       "      <th>2</th>\n",
       "      <td>NaN</td>\n",
       "      <td>2022-01-02 00:00:00</td>\n",
       "      <td>210100281</td>\n",
       "      <td>276806</td>\n",
       "    </tr>\n",
       "    <tr>\n",
       "      <th>3</th>\n",
       "      <td>NaN</td>\n",
       "      <td>2022-01-02 00:00:00</td>\n",
       "      <td>210100281</td>\n",
       "      <td>276809</td>\n",
       "    </tr>\n",
       "    <tr>\n",
       "      <th>4</th>\n",
       "      <td>NaN</td>\n",
       "      <td>2022-01-02 00:00:00</td>\n",
       "      <td>210100281</td>\n",
       "      <td>277674</td>\n",
       "    </tr>\n",
       "  </tbody>\n",
       "</table>\n",
       "</div>"
      ],
      "text/plain": [
       "   Unnamed: 0           Unnamed: 1 Unnamed: 2  Unnamed: 3\n",
       "0         NaN                 Date  Client ID  ID Product\n",
       "1         NaN  2022-01-02 00:00:00  210100281      224780\n",
       "2         NaN  2022-01-02 00:00:00  210100281      276806\n",
       "3         NaN  2022-01-02 00:00:00  210100281      276809\n",
       "4         NaN  2022-01-02 00:00:00  210100281      277674"
      ]
     },
     "execution_count": 28,
     "metadata": {},
     "output_type": "execute_result"
    }
   ],
   "source": [
    "transactions_df.head()"
   ]
  },
  {
   "cell_type": "code",
   "execution_count": 29,
   "id": "29c7f43f-c930-4848-9bee-2126eaf693b0",
   "metadata": {},
   "outputs": [],
   "source": [
    "transactions_df.columns = transactions_df.iloc[0]  # Defining the firts row names as the column names\n",
    "transactions_df = transactions_df[1:].reset_index(drop=True) # eliminate the row with the previous column names"
   ]
  },
  {
   "cell_type": "code",
   "execution_count": 30,
   "id": "3adfe7fb-e508-488d-9e3b-ef4579208f1f",
   "metadata": {},
   "outputs": [
    {
     "data": {
      "text/html": [
       "<div>\n",
       "<style scoped>\n",
       "    .dataframe tbody tr th:only-of-type {\n",
       "        vertical-align: middle;\n",
       "    }\n",
       "\n",
       "    .dataframe tbody tr th {\n",
       "        vertical-align: top;\n",
       "    }\n",
       "\n",
       "    .dataframe thead th {\n",
       "        text-align: right;\n",
       "    }\n",
       "</style>\n",
       "<table border=\"1\" class=\"dataframe\">\n",
       "  <thead>\n",
       "    <tr style=\"text-align: right;\">\n",
       "      <th></th>\n",
       "      <th>NaN</th>\n",
       "      <th>Date</th>\n",
       "      <th>Client ID</th>\n",
       "      <th>ID Product</th>\n",
       "    </tr>\n",
       "  </thead>\n",
       "  <tbody>\n",
       "    <tr>\n",
       "      <th>0</th>\n",
       "      <td>NaN</td>\n",
       "      <td>2022-01-02 00:00:00</td>\n",
       "      <td>210100281</td>\n",
       "      <td>224780</td>\n",
       "    </tr>\n",
       "    <tr>\n",
       "      <th>1</th>\n",
       "      <td>NaN</td>\n",
       "      <td>2022-01-02 00:00:00</td>\n",
       "      <td>210100281</td>\n",
       "      <td>276806</td>\n",
       "    </tr>\n",
       "    <tr>\n",
       "      <th>2</th>\n",
       "      <td>NaN</td>\n",
       "      <td>2022-01-02 00:00:00</td>\n",
       "      <td>210100281</td>\n",
       "      <td>276809</td>\n",
       "    </tr>\n",
       "    <tr>\n",
       "      <th>3</th>\n",
       "      <td>NaN</td>\n",
       "      <td>2022-01-02 00:00:00</td>\n",
       "      <td>210100281</td>\n",
       "      <td>277674</td>\n",
       "    </tr>\n",
       "    <tr>\n",
       "      <th>4</th>\n",
       "      <td>NaN</td>\n",
       "      <td>2022-01-02 00:00:00</td>\n",
       "      <td>210100281</td>\n",
       "      <td>277917</td>\n",
       "    </tr>\n",
       "  </tbody>\n",
       "</table>\n",
       "</div>"
      ],
      "text/plain": [
       "0  NaN                 Date  Client ID ID Product\n",
       "0  NaN  2022-01-02 00:00:00  210100281     224780\n",
       "1  NaN  2022-01-02 00:00:00  210100281     276806\n",
       "2  NaN  2022-01-02 00:00:00  210100281     276809\n",
       "3  NaN  2022-01-02 00:00:00  210100281     277674\n",
       "4  NaN  2022-01-02 00:00:00  210100281     277917"
      ]
     },
     "execution_count": 30,
     "metadata": {},
     "output_type": "execute_result"
    }
   ],
   "source": [
    "transactions_df.head()"
   ]
  },
  {
   "cell_type": "markdown",
   "id": "77b0c449-9648-4fc9-8f72-6a7651142f9f",
   "metadata": {},
   "source": [
    "<a id = \"ds\"></a>\n",
    "\n",
    "<div style=\"background-color: #006B3F; padding: 10px; border-radius: 8px; text-align: center; margin-top: 20px; margin-bottom: 20px;\">\n",
    "    <h4 style=\"color: white; margin: 0;\">Data Shape</h4>\n",
    "</div>"
   ]
  },
  {
   "cell_type": "code",
   "execution_count": 31,
   "id": "bed02c56-e5e4-4f31-aa91-e775285ad5a0",
   "metadata": {},
   "outputs": [
    {
     "data": {
      "text/plain": [
       "(884099, 4)"
      ]
     },
     "execution_count": 31,
     "metadata": {},
     "output_type": "execute_result"
    }
   ],
   "source": [
    "# Shape (no rows,no columns)\n",
    "transactions_df.shape"
   ]
  },
  {
   "cell_type": "markdown",
   "id": "8654d6ca-4add-4d42-a0cb-d4e0819d54d5",
   "metadata": {},
   "source": [
    "+ The dataset has 884099 rows and 4 columns"
   ]
  },
  {
   "cell_type": "code",
   "execution_count": 32,
   "id": "eb9dac72-4dd1-48c7-9761-4ebfe2308ae4",
   "metadata": {},
   "outputs": [
    {
     "data": {
      "text/plain": [
       "0\n",
       "NaN           884099\n",
       "Date               0\n",
       "Client ID          0\n",
       "ID Product         0\n",
       "dtype: int64"
      ]
     },
     "execution_count": 32,
     "metadata": {},
     "output_type": "execute_result"
    }
   ],
   "source": [
    "# Missing Values\n",
    "transactions_df.isna().sum()"
   ]
  },
  {
   "cell_type": "code",
   "execution_count": 33,
   "id": "374fce73-430e-4be8-a1c5-80f3f68e1bd1",
   "metadata": {},
   "outputs": [],
   "source": [
    "# Exclude the first column\n",
    "transactions_df = transactions_df.iloc[:, 1:]\n"
   ]
  },
  {
   "cell_type": "code",
   "execution_count": 34,
   "id": "571efda6-c456-4a62-81c6-b2f4af22d671",
   "metadata": {},
   "outputs": [
    {
     "data": {
      "text/html": [
       "<div>\n",
       "<style scoped>\n",
       "    .dataframe tbody tr th:only-of-type {\n",
       "        vertical-align: middle;\n",
       "    }\n",
       "\n",
       "    .dataframe tbody tr th {\n",
       "        vertical-align: top;\n",
       "    }\n",
       "\n",
       "    .dataframe thead th {\n",
       "        text-align: right;\n",
       "    }\n",
       "</style>\n",
       "<table border=\"1\" class=\"dataframe\">\n",
       "  <thead>\n",
       "    <tr style=\"text-align: right;\">\n",
       "      <th></th>\n",
       "      <th>Date</th>\n",
       "      <th>Client ID</th>\n",
       "      <th>ID Product</th>\n",
       "    </tr>\n",
       "  </thead>\n",
       "  <tbody>\n",
       "    <tr>\n",
       "      <th>0</th>\n",
       "      <td>2022-01-02 00:00:00</td>\n",
       "      <td>210100281</td>\n",
       "      <td>224780</td>\n",
       "    </tr>\n",
       "    <tr>\n",
       "      <th>1</th>\n",
       "      <td>2022-01-02 00:00:00</td>\n",
       "      <td>210100281</td>\n",
       "      <td>276806</td>\n",
       "    </tr>\n",
       "    <tr>\n",
       "      <th>2</th>\n",
       "      <td>2022-01-02 00:00:00</td>\n",
       "      <td>210100281</td>\n",
       "      <td>276809</td>\n",
       "    </tr>\n",
       "    <tr>\n",
       "      <th>3</th>\n",
       "      <td>2022-01-02 00:00:00</td>\n",
       "      <td>210100281</td>\n",
       "      <td>277674</td>\n",
       "    </tr>\n",
       "    <tr>\n",
       "      <th>4</th>\n",
       "      <td>2022-01-02 00:00:00</td>\n",
       "      <td>210100281</td>\n",
       "      <td>277917</td>\n",
       "    </tr>\n",
       "  </tbody>\n",
       "</table>\n",
       "</div>"
      ],
      "text/plain": [
       "0                 Date  Client ID ID Product\n",
       "0  2022-01-02 00:00:00  210100281     224780\n",
       "1  2022-01-02 00:00:00  210100281     276806\n",
       "2  2022-01-02 00:00:00  210100281     276809\n",
       "3  2022-01-02 00:00:00  210100281     277674\n",
       "4  2022-01-02 00:00:00  210100281     277917"
      ]
     },
     "execution_count": 34,
     "metadata": {},
     "output_type": "execute_result"
    }
   ],
   "source": [
    "transactions_df.head()"
   ]
  },
  {
   "cell_type": "code",
   "execution_count": 35,
   "id": "0124f703-63d5-4ccf-9c84-18a6f76b169a",
   "metadata": {},
   "outputs": [],
   "source": [
    "# doing a copy of the dataframe cleaned\n",
    "transactions_df_copy = transactions_df.copy()"
   ]
  },
  {
   "cell_type": "markdown",
   "id": "7f534691-3d86-4721-a390-e930202fdbc8",
   "metadata": {},
   "source": [
    "<a id = \"dt\"></a>\n",
    "\n",
    "<div style=\"background-color: #006B3F; padding: 10px; border-radius: 8px; text-align: center; margin-top: 20px; margin-bottom: 20px;\">\n",
    "    <h4 style=\"color: white; margin: 0;\">Data Types</h4>\n",
    "</div>"
   ]
  },
  {
   "cell_type": "code",
   "execution_count": 36,
   "id": "6032cb9e-aa6e-4efe-8f65-befdd8614c00",
   "metadata": {},
   "outputs": [
    {
     "name": "stdout",
     "output_type": "stream",
     "text": [
      "<class 'pandas.core.frame.DataFrame'>\n",
      "RangeIndex: 884099 entries, 0 to 884098\n",
      "Data columns (total 3 columns):\n",
      " #   Column      Non-Null Count   Dtype \n",
      "---  ------      --------------   ----- \n",
      " 0   Date        884099 non-null  object\n",
      " 1   Client ID   884099 non-null  object\n",
      " 2   ID Product  884099 non-null  object\n",
      "dtypes: object(3)\n",
      "memory usage: 20.2+ MB\n"
     ]
    }
   ],
   "source": [
    "transactions_df.info()"
   ]
  },
  {
   "cell_type": "markdown",
   "id": "9f94e4b4-4584-49e6-a12f-63b4d69b9edd",
   "metadata": {},
   "source": [
    "<a id = \"ss\"></a>\n",
    "\n",
    "<div style=\"background-color: #006B3F; padding: 10px; border-radius: 8px; text-align: center; margin-top: 20px; margin-bottom: 20px;\">\n",
    "    <h4 style=\"color: white; margin: 0;\">Summary Statistics</h4>\n",
    "</div>"
   ]
  },
  {
   "cell_type": "code",
   "execution_count": 37,
   "id": "0adff4f2-f439-4d91-a54c-8b94485c32bd",
   "metadata": {},
   "outputs": [
    {
     "data": {
      "text/html": [
       "<div>\n",
       "<style scoped>\n",
       "    .dataframe tbody tr th:only-of-type {\n",
       "        vertical-align: middle;\n",
       "    }\n",
       "\n",
       "    .dataframe tbody tr th {\n",
       "        vertical-align: top;\n",
       "    }\n",
       "\n",
       "    .dataframe thead th {\n",
       "        text-align: right;\n",
       "    }\n",
       "</style>\n",
       "<table border=\"1\" class=\"dataframe\">\n",
       "  <thead>\n",
       "    <tr style=\"text-align: right;\">\n",
       "      <th></th>\n",
       "      <th>count</th>\n",
       "      <th>unique</th>\n",
       "      <th>top</th>\n",
       "      <th>freq</th>\n",
       "    </tr>\n",
       "    <tr>\n",
       "      <th>0</th>\n",
       "      <th></th>\n",
       "      <th></th>\n",
       "      <th></th>\n",
       "      <th></th>\n",
       "    </tr>\n",
       "  </thead>\n",
       "  <tbody>\n",
       "    <tr>\n",
       "      <th>Date</th>\n",
       "      <td>884099</td>\n",
       "      <td>311</td>\n",
       "      <td>2022-10-01 00:00:00</td>\n",
       "      <td>5441</td>\n",
       "    </tr>\n",
       "    <tr>\n",
       "      <th>Client ID</th>\n",
       "      <td>884099</td>\n",
       "      <td>1529</td>\n",
       "      <td>210103651</td>\n",
       "      <td>13274</td>\n",
       "    </tr>\n",
       "    <tr>\n",
       "      <th>ID Product</th>\n",
       "      <td>884099</td>\n",
       "      <td>4583</td>\n",
       "      <td>621958</td>\n",
       "      <td>12009</td>\n",
       "    </tr>\n",
       "  </tbody>\n",
       "</table>\n",
       "</div>"
      ],
      "text/plain": [
       "             count unique                  top   freq\n",
       "0                                                    \n",
       "Date        884099    311  2022-10-01 00:00:00   5441\n",
       "Client ID   884099   1529            210103651  13274\n",
       "ID Product  884099   4583               621958  12009"
      ]
     },
     "execution_count": 37,
     "metadata": {},
     "output_type": "execute_result"
    }
   ],
   "source": [
    "# Summary statistics for discrete variables\n",
    "transactions_df.describe(include='all').T"
   ]
  },
  {
   "cell_type": "markdown",
   "id": "a02b5a21-0c1a-4695-aa2b-2d1cd3236a2e",
   "metadata": {},
   "source": [
    "<a id = \"Data-Vizualization\"></a>\n",
    "\n",
    "<div style=\"background-color: #8FC93A; padding: 10px; border-radius: 8px; text-align: center; margin-top: 20px; margin-bottom: 20px;\">\n",
    "    <h3 style=\"color: white; margin: 0;\">1.2. Data Visualization </h3>\n",
    "</div>\n",
    "\n",
    "- [Zip Code](#zip)\n",
    "- [Boolean variables](#bol)\n",
    "- [Categorical variables](#cat)\n",
    "- [Customer Behaviour](#cb)\n",
    "- [Revenue](#rev)\n",
    "- [Room Preferences](#rp)\n",
    "- [Correlation](#cor)\n",
    "\n",
    "[Back to Index](#Index)"
   ]
  },
  {
   "cell_type": "markdown",
   "id": "530fd295-1b28-43d6-b6b0-058a8daa05bd",
   "metadata": {},
   "source": [
    "<a id = \"zip\"></a>\n",
    "\n",
    "<div style=\"background-color: #006B3F; padding: 10px; border-radius: 8px; text-align: center; margin-top: 20px; margin-bottom: 20px;\">\n",
    "    <h4 style=\"color: white; margin: 0;\">ZIP Code</h4>\n",
    "</div>"
   ]
  },
  {
   "cell_type": "code",
   "execution_count": 38,
   "id": "7d3a0854-f432-4c75-889d-460d67289c10",
   "metadata": {},
   "outputs": [
    {
     "data": {
      "text/plain": [
       "array([4049, 4000, 4149, 4100, 4405, 4400, 4560, 4050, 4420, 4150, 4430,\n",
       "       4520, 4460, 4450, 4445, 4435, 4300, 4470, 4425, 4465, 2700, 4350,\n",
       "       4250, 0, 1150, 4175, 4455, 1749, 4200, 4785, 4515, 4485, 4490,\n",
       "       4570, 4760, 4480, 4740, 4495, 3000, 4580, 4590, 4510, 3810, 4440,\n",
       "       4800, 4475, 5100, 1800, 2485, 1070, 4404, 4810, 3350, 2665, 9504,\n",
       "       4410, 4535, 4536, 2855, 3080, 7080, 8300, 5085, 1250, 7230, 4825,\n",
       "       1600, 2780, 2914, 7000, 8000, 1000, 1099, 2900, 1269, 8400, 2400,\n",
       "       5300, 3800, 3510, 4700, 4505, 4780, 3, 1, 4415, 4575, 2765, 1100,\n",
       "       4500, 1200, 2799, 3050, 4715, 3885, 2950, 1990, 9050, 3840, 4169,\n",
       "       4745, 4585, 4525, 3700, 1050, 4640, 1350, 2840, 2745, 4349, 3460,\n",
       "       1950, 3100, 3830, 4099, 4595, 4199, 4416, 1349, 2790, 4815, 3880,\n",
       "       3720, 1249, 4650, 7300, 1495, 2795, 2414, 4600, 1400, 4795, 1399,\n",
       "       4850, 4930, 4451, 3870, 1675, 4770, 4620, 2660, 9700, 1900, 1700,\n",
       "       4935, 6270, 4476, 4369, 7370, 1750, 9950, 4474, 4610, 4466, 1300,\n",
       "       2610, 4765, 4751, 2500, 4249, 3850, 4730, 4755, 4710, 2420, 5040,\n",
       "       5370, 1649, 4775, 4885, 3804, 4910, 4454, 4550, 4635, 4711, 4805,\n",
       "       4540, 4900, 4835, 5000, 4750, 5400, 3750, 4990, 4820, 4920, 3500,\n",
       "       3770, 5340, 4880, 4970, 4811, 1500, 4904, 4925, 6300, 6200, 6420,\n",
       "       3300, 3404, 3660, 2750, 2870, 4464, 2710, 4690, 4625, 3440, 4905,\n",
       "       4660, 2695, 4630, 3420, 4870, 4719, 5130, 2605, 2865, 7480, 6000,\n",
       "       2675, 2825, 7570, 2800, 2815, 2720, 2625, 2070, 7220, 7520, 6230,\n",
       "       7900, 4705, 3860, 4434, 3730, 4784, 9000, 2835, 1685, 2830, 3780,\n",
       "       2620, 6120, 2670, 2680, 2635, 3405, 8800, 4890, 3004, 5450, 5150,\n",
       "       3040, 5050, 2560, 4469, 5110, 3044, 3045], dtype=object)"
      ]
     },
     "execution_count": 38,
     "metadata": {},
     "output_type": "execute_result"
    }
   ],
   "source": [
    "clients_df['ZIP Code'].unique()"
   ]
  },
  {
   "cell_type": "code",
   "execution_count": 39,
   "id": "d2cf49a6-17f0-4d16-a0b4-5c63b5c75189",
   "metadata": {},
   "outputs": [],
   "source": [
    "clients_df['ZIP Code'] = clients_df['ZIP Code'].astype(str)"
   ]
  },
  {
   "cell_type": "code",
   "execution_count": 40,
   "id": "9dfb0d3c-5f4e-4c7c-b2b9-30306a116446",
   "metadata": {},
   "outputs": [],
   "source": [
    "\n",
    "\n",
    "# Function for categorizing each code by region\n",
    "def region_by_postal_code(postal_code):\n",
    "    # Ensure that the ZIP Code is a str\n",
    "    postal_code = str(postal_code).strip().replace(\"-\", \"\")\n",
    "    \n",
    "    # Verify the prefixes\n",
    "    if  int(postal_code) <= 1999:\n",
    "        return \"Lisboa\"\n",
    "    elif 2000 <= int(postal_code) <= 2599:\n",
    "        return \"Santarém\"\n",
    "    elif 2600 <= int(postal_code) <= 2799:\n",
    "        return \"Amadora/Cascais\"\n",
    "    elif 2800 <= int(postal_code) <= 2999:\n",
    "        return \"Almada/Setubal\"\n",
    "    elif 3000 <= int(postal_code) <= 3999:\n",
    "        return \"Centro\"\n",
    "    elif 4000 <= int(postal_code) <= 4499:\n",
    "        return \"Porto\"\n",
    "    elif 4500 <= int(postal_code) <= 5499:\n",
    "        return \"Norte\"\n",
    "    elif 6000 <= int(postal_code) <= 6499:\n",
    "        return \"Centro\"\n",
    "    elif 7000 <= int(postal_code) <= 7999:\n",
    "        return \"Alentejo\"\n",
    "    elif 8000 <= int(postal_code) <= 8999:\n",
    "        return \"Algarve\"\n",
    "    elif 9000 <= int(postal_code) <= 9399:\n",
    "        return \"Madeira\"\n",
    "    elif 9500 <= int(postal_code) <= 9999:\n",
    "        return \"Açores\"\n",
    "    else:\n",
    "        return \"Região desconhecida\"\n",
    "\n",
    "# Dataframe to store the regions\n",
    "regions = clients_df\n",
    "\n",
    "# Ensure ZIP Code is treated as a string\n",
    "regions['ZIP Code'] = regions['ZIP Code'].astype(str)\n",
    "\n",
    "# Apply the function to get the regions for each Zip Code\n",
    "regions['Region'] = regions['ZIP Code'].apply(region_by_postal_code)\n",
    "\n",
    "\n"
   ]
  },
  {
   "cell_type": "code",
   "execution_count": 41,
   "id": "d21b969c-68f0-4a3b-b4b7-2ba29aa06914",
   "metadata": {},
   "outputs": [
    {
     "data": {
      "text/html": [
       "<div>\n",
       "<style scoped>\n",
       "    .dataframe tbody tr th:only-of-type {\n",
       "        vertical-align: middle;\n",
       "    }\n",
       "\n",
       "    .dataframe tbody tr th {\n",
       "        vertical-align: top;\n",
       "    }\n",
       "\n",
       "    .dataframe thead th {\n",
       "        text-align: right;\n",
       "    }\n",
       "</style>\n",
       "<table border=\"1\" class=\"dataframe\">\n",
       "  <thead>\n",
       "    <tr style=\"text-align: right;\">\n",
       "      <th></th>\n",
       "      <th>Region</th>\n",
       "      <th>Count</th>\n",
       "    </tr>\n",
       "  </thead>\n",
       "  <tbody>\n",
       "    <tr>\n",
       "      <th>0</th>\n",
       "      <td>Alentejo</td>\n",
       "      <td>13</td>\n",
       "    </tr>\n",
       "    <tr>\n",
       "      <th>1</th>\n",
       "      <td>Algarve</td>\n",
       "      <td>5</td>\n",
       "    </tr>\n",
       "    <tr>\n",
       "      <th>2</th>\n",
       "      <td>Almada/Setubal</td>\n",
       "      <td>25</td>\n",
       "    </tr>\n",
       "    <tr>\n",
       "      <th>3</th>\n",
       "      <td>Amadora/Cascais</td>\n",
       "      <td>50</td>\n",
       "    </tr>\n",
       "    <tr>\n",
       "      <th>4</th>\n",
       "      <td>Açores</td>\n",
       "      <td>3</td>\n",
       "    </tr>\n",
       "    <tr>\n",
       "      <th>5</th>\n",
       "      <td>Centro</td>\n",
       "      <td>269</td>\n",
       "    </tr>\n",
       "    <tr>\n",
       "      <th>6</th>\n",
       "      <td>Lisboa</td>\n",
       "      <td>293</td>\n",
       "    </tr>\n",
       "    <tr>\n",
       "      <th>7</th>\n",
       "      <td>Madeira</td>\n",
       "      <td>4</td>\n",
       "    </tr>\n",
       "    <tr>\n",
       "      <th>8</th>\n",
       "      <td>Norte</td>\n",
       "      <td>1092</td>\n",
       "    </tr>\n",
       "    <tr>\n",
       "      <th>9</th>\n",
       "      <td>Porto</td>\n",
       "      <td>4699</td>\n",
       "    </tr>\n",
       "    <tr>\n",
       "      <th>10</th>\n",
       "      <td>Santarém</td>\n",
       "      <td>9</td>\n",
       "    </tr>\n",
       "  </tbody>\n",
       "</table>\n",
       "</div>"
      ],
      "text/plain": [
       "             Region  Count\n",
       "0          Alentejo     13\n",
       "1           Algarve      5\n",
       "2    Almada/Setubal     25\n",
       "3   Amadora/Cascais     50\n",
       "4            Açores      3\n",
       "5            Centro    269\n",
       "6            Lisboa    293\n",
       "7           Madeira      4\n",
       "8             Norte   1092\n",
       "9             Porto   4699\n",
       "10         Santarém      9"
      ]
     },
     "execution_count": 41,
     "metadata": {},
     "output_type": "execute_result"
    }
   ],
   "source": [
    "# Contar quantas ocorrências há de cada região\n",
    "region_count = regions.groupby('Region').size().reset_index(name='Count')\n",
    "\n",
    "# Exibir o resultado\n",
    "region_count"
   ]
  },
  {
   "cell_type": "markdown",
   "id": "853eb4c8-c513-458f-a82a-c9dc7b09d02a",
   "metadata": {},
   "source": [
    "+ The majority of customers are located in the northern region of Portugal, with Porto standing out as the city with the highest number of clients.\n",
    "+ On the other hand, Açores, Madeira, and Algarve have the fewest customers."
   ]
  },
  {
   "cell_type": "markdown",
   "id": "a41545c4",
   "metadata": {},
   "source": [
    "<a id = \"zip\"></a>\n",
    "\n",
    "<div style=\"background-color: #006B3F; padding: 10px; border-radius: 8px; text-align: center; margin-top: 20px; margin-bottom: 20px;\">\n",
    "    <h4 style=\"color: white; margin: 0;\">Client Type</h4>\n",
    "</div>"
   ]
  },
  {
   "cell_type": "code",
   "execution_count": 52,
   "id": "cc818374",
   "metadata": {},
   "outputs": [
    {
     "data": {
      "text/plain": [
       "26"
      ]
     },
     "execution_count": 52,
     "metadata": {},
     "output_type": "execute_result"
    }
   ],
   "source": [
    "# Number of Client Types\n",
    "clients_df['ID Client Type'].nunique()"
   ]
  },
  {
   "cell_type": "code",
   "execution_count": 53,
   "id": "a2d95c6c",
   "metadata": {},
   "outputs": [
    {
     "data": {
      "text/plain": [
       "array([nan, 'Hotelaria', 'Coletiva/Instituição/Cantina', 'Catering',\n",
       "       'Café/Pastelaria', 'Restaurante - Churrasqueira',\n",
       "       'Restaurante - Cozinha Portuguesa', 'Bar/Discoteca',\n",
       "       'Padaria/Pastelaria', 'Restaurante - Japonês',\n",
       "       'Restaurante - Chinês', 'Restaurante - Cervejaria',\n",
       "       'Restaurante - RodÃ\\xadzio', 'Mercearia', 'Retail Outros',\n",
       "       'Garrafeira', 'Restaurante - Tapas & Petiscos',\n",
       "       'Restaurante - Steak House', 'Restaurante - Cozinha de Autor',\n",
       "       'Restaurante - Rodízio', 'Frutaria', 'Restaurante - Brasileiro',\n",
       "       'Restaurante - Italiano',\n",
       "       'Restaurante - Outra Cozinha Internacional',\n",
       "       'Restaurante - Marisqueira', 'Restaurante - Mexicano',\n",
       "       'Restaurante - Vegetariano'], dtype=object)"
      ]
     },
     "execution_count": 53,
     "metadata": {},
     "output_type": "execute_result"
    }
   ],
   "source": [
    "# List all Client Types\n",
    "clients_df['ID Client Type'].unique()"
   ]
  },
  {
   "cell_type": "code",
   "execution_count": 51,
   "id": "8c201e00",
   "metadata": {},
   "outputs": [
    {
     "data": {
      "image/png": "[encoded data removed]",
      "text/plain": [
       "<Figure size 1400x600 with 1 Axes>"
      ]
     },
     "metadata": {},
     "output_type": "display_data"
    }
   ],
   "source": [
    "plt.figure(figsize=(14, 6))\n",
    "sns.countplot(x='ID Client Type', data=clients_df, order=clients_df['ID Client Type'].value_counts().index)\n",
    "plt.title('Distribution of Client Types')\n",
    "plt.xlabel('Client Type')\n",
    "plt.ylabel('Count')\n",
    "plt.xticks(rotation=45, ha='right') \n",
    "plt.tight_layout()\n",
    "plt.show()"
   ]
  },
  {
   "cell_type": "markdown",
   "id": "a2e85b33",
   "metadata": {},
   "source": [
    "The majority of Recheio's clients belong to the \"Hotelaria\" and \"Coletividade/Instituição/Cantina\" segments, followed by \"Restaurante - Cozinha Portuguesa\" and \"Café/Pastelaria\".\n",
    "Most other client types represent a much smaller portion, showing a highly concentrated distribution across a few main sectors."
   ]
  },
  {
   "cell_type": "code",
   "execution_count": 56,
   "id": "fd25ff83",
   "metadata": {},
   "outputs": [
    {
     "data": {
      "text/plain": [
       "5782"
      ]
     },
     "execution_count": 56,
     "metadata": {},
     "output_type": "execute_result"
    }
   ],
   "source": [
    "# Check missing values only in 'ID Client Type'\n",
    "clients_df['ID Client Type'].isnull().sum()\n"
   ]
  },
  {
   "cell_type": "markdown",
   "id": "c4d5cf1b",
   "metadata": {},
   "source": [
    "As previously observed, there are many missing values in the \"Client Type\" column.\n",
    "To accurately analyze our client profiles and provide useful recommendations to the company, it is essential to understand the type of clients we are dealing with and address this missing values issue"
   ]
  },
  {
   "cell_type": "markdown",
   "id": "67e9e80b",
   "metadata": {},
   "source": [
    "<a id = \"zip\"></a>\n",
    "\n",
    "<div style=\"background-color: #006B3F; padding: 10px; border-radius: 8px; text-align: center; margin-top: 20px; margin-bottom: 20px;\">\n",
    "    <h4 style=\"color: white; margin: 0;\">ID Product Category</h4>\n",
    "</div>"
   ]
  },
  {
   "cell_type": "code",
   "execution_count": 60,
   "id": "2b8f38fb",
   "metadata": {},
   "outputs": [
    {
     "data": {
      "image/png": "[encoded data removed]",
      "text/plain": [
       "<Figure size 1000x600 with 1 Axes>"
      ]
     },
     "metadata": {},
     "output_type": "display_data"
    }
   ],
   "source": [
    "# Top 20 Product Categories\n",
    "top_categories = products_df['ID Product Category'].value_counts().head(20)\n",
    "\n",
    "plt.figure(figsize=(10,6))\n",
    "sns.barplot(x=top_categories.values, y=top_categories.index)\n",
    "plt.title('Top 20 Product Categories by Number of Products')\n",
    "plt.xlabel('Number of Products')\n",
    "plt.ylabel('Product Category')\n",
    "plt.show()\n"
   ]
  },
  {
   "cell_type": "markdown",
   "id": "8357efc8",
   "metadata": {},
   "source": [
    "This bar chart shows the product categories with the highest number of products available.  \n",
    "The most common categories are \"Vinhos Tintos\", \"Conservas Vegetais\", and \"Molhos\", indicating a strong variety within these segments."
   ]
  },
  {
   "cell_type": "markdown",
   "id": "64fa7f09",
   "metadata": {},
   "source": [
    "<a id = \"zip\"></a>\n",
    "\n",
    "<div style=\"background-color: #006B3F; padding: 10px; border-radius: 8px; text-align: center; margin-top: 20px; margin-bottom: 20px;\">\n",
    "    <h4 style=\"color: white; margin: 0;\">Transactions</h4>\n",
    "</div>"
   ]
  },
  {
   "cell_type": "markdown",
   "id": "f5ad9c3a",
   "metadata": {},
   "source": [
    "#### Number of Transactions Over Time"
   ]
  },
  {
   "cell_type": "code",
   "execution_count": 58,
   "id": "b1850eeb",
   "metadata": {},
   "outputs": [
    {
     "data": {
      "image/png": "[encoded data removed]",
      "text/plain": [
       "<Figure size 1000x500 with 1 Axes>"
      ]
     },
     "metadata": {},
     "output_type": "display_data"
    }
   ],
   "source": [
    "transactions_df['Date'] = pd.to_datetime(transactions_df['Date'])  # Make sure Date is datetime\n",
    "\n",
    "# Number of transactions per month\n",
    "transactions_df['YearMonth'] = transactions_df['Date'].dt.to_period('M')\n",
    "\n",
    "monthly_transactions = transactions_df.groupby('YearMonth').size()\n",
    "\n",
    "monthly_transactions.plot(kind='line', figsize=(10,5))\n",
    "plt.title('Number of Transactions Over Time')\n",
    "plt.xlabel('Month')\n",
    "plt.ylabel('Number of Transactions')\n",
    "plt.xticks(rotation=45)\n",
    "plt.show()\n"
   ]
  },
  {
   "cell_type": "markdown",
   "id": "1f07a17b",
   "metadata": {},
   "source": [
    "This line chart displays the number of transactions per month throughout the year.  \n",
    "There is a clear upward trend from February to October, reaching a peak in October, followed by a significant drop towards the end of the year.  \n",
    "This suggests possible seasonal effects or campaign influences.\n"
   ]
  },
  {
   "cell_type": "code",
   "execution_count": 59,
   "id": "d4836b39",
   "metadata": {},
   "outputs": [
    {
     "data": {
      "image/png": "[encoded data removed]",
      "text/plain": [
       "<Figure size 1000x600 with 1 Axes>"
      ]
     },
     "metadata": {},
     "output_type": "display_data"
    }
   ],
   "source": [
    "top_products = transactions_df['ID Product'].value_counts().head(10)\n",
    "\n",
    "plt.figure(figsize=(10,6))\n",
    "sns.barplot(x=top_products.values, y=top_products.index)\n",
    "plt.title('Top 10 Most Sold Products')\n",
    "plt.xlabel('Number of Transactions')\n",
    "plt.ylabel('Product ID')\n",
    "plt.show()\n"
   ]
  },
  {
   "cell_type": "markdown",
   "id": "2f6a24d4",
   "metadata": {},
   "source": [
    "This bar chart highlights the top 10 products with the highest number of transactions.  \n",
    "The most sold products are represented by their Product IDs, and there is a noticeable gap between the best-selling items and others, indicating a concentration of sales in a few key products."
   ]
  },
  {
   "cell_type": "markdown",
   "id": "e8f29e19",
   "metadata": {},
   "source": [
    "#### Merge Product Descrption and Category"
   ]
  },
  {
   "cell_type": "code",
   "execution_count": 68,
   "id": "d6f291a3",
   "metadata": {},
   "outputs": [],
   "source": [
    "# Redo the merge to bring both Product Description and Product Category\n",
    "transactions_with_products = transactions_df.merge(\n",
    "    products_df[['ID Product', 'Product Description', 'ID Product Category']],\n",
    "    on='ID Product',\n",
    "    how='left'\n",
    ")"
   ]
  },
  {
   "cell_type": "markdown",
   "id": "542a39e7",
   "metadata": {},
   "source": [
    "To enhance the product-level analysis, we merged the transactions dataset with the products dataset to bring both product names and product categories into the same table."
   ]
  },
  {
   "cell_type": "markdown",
   "id": "bdd14649",
   "metadata": {},
   "source": [
    "<a id = \"Client-Profile\"></a>\n",
    "\n",
    "<div style=\"background-color: #8FC93A; padding: 10px; border-radius: 8px; text-align: center; margin-top: 20px; margin-bottom: 20px;\">\n",
    "    <h3 style=\"color: white; margin: 0;\">1.2. Client Profile </h3>\n",
    "</div>\n",
    "\n"
   ]
  },
  {
   "cell_type": "markdown",
   "id": "acbbaac1",
   "metadata": {},
   "source": [
    "Step 1: Merge Transactions with Product Categories\n",
    "\n",
    "To enrich client data with category-level insights, we start by merging the transactions with the product dataset. This will allow us to analyze which product categories each client has purchased.\n"
   ]
  },
  {
   "cell_type": "code",
   "execution_count": 42,
   "id": "70b38ee1-1b79-4761-b3e8-295434f1eb3a",
   "metadata": {},
   "outputs": [],
   "source": [
    "# Merge transactions with products to get category info\n",
    "transactions_df = transactions_df.merge(products_df, on='ID Product', how='left')"
   ]
  },
  {
   "cell_type": "markdown",
   "id": "0fa54e35",
   "metadata": {},
   "source": [
    "Step 2: Create Aggregated Features per Client\n",
    "\n",
    "We now group the data by client to create useful features such as:\n",
    "- Total number of transactions\n",
    "- Number of unique products purchased\n",
    "- Number of distinct product categories\n",
    "- First and last purchase dates\n",
    "- Client lifetime in days\n",
    "- Days since last purchase\n"
   ]
  },
  {
   "cell_type": "code",
   "execution_count": 43,
   "id": "3d123c08-6571-442d-b030-47502bc66339",
   "metadata": {},
   "outputs": [],
   "source": [
    "# Aggregate features per client\n",
    "features_clientes = transactions_df.groupby('Client ID').agg(\n",
    "    n_transactions=('Date', 'count'),\n",
    "    n_unique_products=('ID Product', 'nunique'),\n",
    "    n_unique_categories=('ID Product Category', 'nunique'),\n",
    "    last_purchase=('Date', 'max'),\n",
    "    first_purchase=('Date', 'min')\n",
    ").reset_index()\n",
    "\n",
    "# Calculate relationship metrics\n",
    "features_clientes['days_as_client'] = (pd.to_datetime('today') - pd.to_datetime(features_clientes['first_purchase'])).dt.days\n",
    "features_clientes['days_since_last_purchase'] = (pd.to_datetime('today') - pd.to_datetime(features_clientes['last_purchase'])).dt.days"
   ]
  },
  {
   "cell_type": "markdown",
   "id": "def70809",
   "metadata": {},
   "source": [
    "### Step 3: Explore the Aggregated Features\n",
    "\n",
    "Let’s visualize the newly created client features to better understand client behavior patterns.\n"
   ]
  },
  {
   "cell_type": "code",
   "execution_count": 44,
   "id": "9d650225-bc82-4600-b961-f62aea366898",
   "metadata": {},
   "outputs": [
    {
     "data": {
      "text/html": [
       "<div>\n",
       "<style scoped>\n",
       "    .dataframe tbody tr th:only-of-type {\n",
       "        vertical-align: middle;\n",
       "    }\n",
       "\n",
       "    .dataframe tbody tr th {\n",
       "        vertical-align: top;\n",
       "    }\n",
       "\n",
       "    .dataframe thead th {\n",
       "        text-align: right;\n",
       "    }\n",
       "</style>\n",
       "<table border=\"1\" class=\"dataframe\">\n",
       "  <thead>\n",
       "    <tr style=\"text-align: right;\">\n",
       "      <th></th>\n",
       "      <th>Client ID</th>\n",
       "      <th>n_transactions</th>\n",
       "      <th>n_unique_products</th>\n",
       "      <th>n_unique_categories</th>\n",
       "      <th>last_purchase</th>\n",
       "      <th>first_purchase</th>\n",
       "      <th>days_as_client</th>\n",
       "      <th>days_since_last_purchase</th>\n",
       "    </tr>\n",
       "  </thead>\n",
       "  <tbody>\n",
       "    <tr>\n",
       "      <th>0</th>\n",
       "      <td>210100005</td>\n",
       "      <td>82</td>\n",
       "      <td>41</td>\n",
       "      <td>19</td>\n",
       "      <td>2022-10-03 00:00:00</td>\n",
       "      <td>2022-01-23 00:00:00</td>\n",
       "      <td>1190</td>\n",
       "      <td>937</td>\n",
       "    </tr>\n",
       "    <tr>\n",
       "      <th>1</th>\n",
       "      <td>210100012</td>\n",
       "      <td>6</td>\n",
       "      <td>4</td>\n",
       "      <td>3</td>\n",
       "      <td>2022-07-29 00:00:00</td>\n",
       "      <td>2022-05-27 00:00:00</td>\n",
       "      <td>1066</td>\n",
       "      <td>1003</td>\n",
       "    </tr>\n",
       "    <tr>\n",
       "      <th>2</th>\n",
       "      <td>210100033</td>\n",
       "      <td>1242</td>\n",
       "      <td>152</td>\n",
       "      <td>43</td>\n",
       "      <td>2022-12-28 00:00:00</td>\n",
       "      <td>2022-01-03 00:00:00</td>\n",
       "      <td>1210</td>\n",
       "      <td>851</td>\n",
       "    </tr>\n",
       "    <tr>\n",
       "      <th>3</th>\n",
       "      <td>210100051</td>\n",
       "      <td>683</td>\n",
       "      <td>103</td>\n",
       "      <td>38</td>\n",
       "      <td>2022-12-30 00:00:00</td>\n",
       "      <td>2022-01-04 00:00:00</td>\n",
       "      <td>1209</td>\n",
       "      <td>849</td>\n",
       "    </tr>\n",
       "    <tr>\n",
       "      <th>4</th>\n",
       "      <td>210100096</td>\n",
       "      <td>432</td>\n",
       "      <td>113</td>\n",
       "      <td>42</td>\n",
       "      <td>2022-12-09 00:00:00</td>\n",
       "      <td>2022-01-08 00:00:00</td>\n",
       "      <td>1205</td>\n",
       "      <td>870</td>\n",
       "    </tr>\n",
       "  </tbody>\n",
       "</table>\n",
       "</div>"
      ],
      "text/plain": [
       "   Client ID  n_transactions  n_unique_products  n_unique_categories  \\\n",
       "0  210100005              82                 41                   19   \n",
       "1  210100012               6                  4                    3   \n",
       "2  210100033            1242                152                   43   \n",
       "3  210100051             683                103                   38   \n",
       "4  210100096             432                113                   42   \n",
       "\n",
       "         last_purchase       first_purchase  days_as_client  \\\n",
       "0  2022-10-03 00:00:00  2022-01-23 00:00:00            1190   \n",
       "1  2022-07-29 00:00:00  2022-05-27 00:00:00            1066   \n",
       "2  2022-12-28 00:00:00  2022-01-03 00:00:00            1210   \n",
       "3  2022-12-30 00:00:00  2022-01-04 00:00:00            1209   \n",
       "4  2022-12-09 00:00:00  2022-01-08 00:00:00            1205   \n",
       "\n",
       "   days_since_last_purchase  \n",
       "0                       937  \n",
       "1                      1003  \n",
       "2                       851  \n",
       "3                       849  \n",
       "4                       870  "
      ]
     },
     "execution_count": 44,
     "metadata": {},
     "output_type": "execute_result"
    }
   ],
   "source": [
    "# Show the first few rows of the enriched client features\n",
    "features_clientes.head()\n"
   ]
  },
  {
   "cell_type": "code",
   "execution_count": 45,
   "id": "9c5586f7-ab2e-43fa-bfe1-8a59a2751d02",
   "metadata": {},
   "outputs": [
    {
     "data": {
      "text/html": [
       "<div>\n",
       "<style scoped>\n",
       "    .dataframe tbody tr th:only-of-type {\n",
       "        vertical-align: middle;\n",
       "    }\n",
       "\n",
       "    .dataframe tbody tr th {\n",
       "        vertical-align: top;\n",
       "    }\n",
       "\n",
       "    .dataframe thead th {\n",
       "        text-align: right;\n",
       "    }\n",
       "</style>\n",
       "<table border=\"1\" class=\"dataframe\">\n",
       "  <thead>\n",
       "    <tr style=\"text-align: right;\">\n",
       "      <th></th>\n",
       "      <th>Client ID</th>\n",
       "      <th>n_transactions</th>\n",
       "      <th>n_unique_products</th>\n",
       "      <th>n_unique_categories</th>\n",
       "      <th>days_as_client</th>\n",
       "      <th>days_since_last_purchase</th>\n",
       "    </tr>\n",
       "  </thead>\n",
       "  <tbody>\n",
       "    <tr>\n",
       "      <th>count</th>\n",
       "      <td>1.529000e+03</td>\n",
       "      <td>1529.000000</td>\n",
       "      <td>1529.000000</td>\n",
       "      <td>1529.000000</td>\n",
       "      <td>1529.000000</td>\n",
       "      <td>1529.00000</td>\n",
       "    </tr>\n",
       "    <tr>\n",
       "      <th>mean</th>\n",
       "      <td>2.101055e+08</td>\n",
       "      <td>578.220405</td>\n",
       "      <td>76.402224</td>\n",
       "      <td>29.452583</td>\n",
       "      <td>1137.404186</td>\n",
       "      <td>908.52191</td>\n",
       "    </tr>\n",
       "    <tr>\n",
       "      <th>std</th>\n",
       "      <td>9.510948e+03</td>\n",
       "      <td>1121.224323</td>\n",
       "      <td>102.846934</td>\n",
       "      <td>27.823335</td>\n",
       "      <td>99.984168</td>\n",
       "      <td>87.14144</td>\n",
       "    </tr>\n",
       "    <tr>\n",
       "      <th>min</th>\n",
       "      <td>2.101000e+08</td>\n",
       "      <td>1.000000</td>\n",
       "      <td>1.000000</td>\n",
       "      <td>1.000000</td>\n",
       "      <td>849.000000</td>\n",
       "      <td>848.00000</td>\n",
       "    </tr>\n",
       "    <tr>\n",
       "      <th>25%</th>\n",
       "      <td>2.101038e+08</td>\n",
       "      <td>26.000000</td>\n",
       "      <td>12.000000</td>\n",
       "      <td>7.000000</td>\n",
       "      <td>1105.000000</td>\n",
       "      <td>852.00000</td>\n",
       "    </tr>\n",
       "    <tr>\n",
       "      <th>50%</th>\n",
       "      <td>2.101049e+08</td>\n",
       "      <td>169.000000</td>\n",
       "      <td>42.000000</td>\n",
       "      <td>22.000000</td>\n",
       "      <td>1196.000000</td>\n",
       "      <td>867.00000</td>\n",
       "    </tr>\n",
       "    <tr>\n",
       "      <th>75%</th>\n",
       "      <td>2.101059e+08</td>\n",
       "      <td>665.000000</td>\n",
       "      <td>105.000000</td>\n",
       "      <td>44.000000</td>\n",
       "      <td>1209.000000</td>\n",
       "      <td>925.00000</td>\n",
       "    </tr>\n",
       "    <tr>\n",
       "      <th>max</th>\n",
       "      <td>2.101999e+08</td>\n",
       "      <td>13274.000000</td>\n",
       "      <td>976.000000</td>\n",
       "      <td>164.000000</td>\n",
       "      <td>1211.000000</td>\n",
       "      <td>1211.00000</td>\n",
       "    </tr>\n",
       "  </tbody>\n",
       "</table>\n",
       "</div>"
      ],
      "text/plain": [
       "          Client ID  n_transactions  n_unique_products  n_unique_categories  \\\n",
       "count  1.529000e+03     1529.000000        1529.000000          1529.000000   \n",
       "mean   2.101055e+08      578.220405          76.402224            29.452583   \n",
       "std    9.510948e+03     1121.224323         102.846934            27.823335   \n",
       "min    2.101000e+08        1.000000           1.000000             1.000000   \n",
       "25%    2.101038e+08       26.000000          12.000000             7.000000   \n",
       "50%    2.101049e+08      169.000000          42.000000            22.000000   \n",
       "75%    2.101059e+08      665.000000         105.000000            44.000000   \n",
       "max    2.101999e+08    13274.000000         976.000000           164.000000   \n",
       "\n",
       "       days_as_client  days_since_last_purchase  \n",
       "count     1529.000000                1529.00000  \n",
       "mean      1137.404186                 908.52191  \n",
       "std         99.984168                  87.14144  \n",
       "min        849.000000                 848.00000  \n",
       "25%       1105.000000                 852.00000  \n",
       "50%       1196.000000                 867.00000  \n",
       "75%       1209.000000                 925.00000  \n",
       "max       1211.000000                1211.00000  "
      ]
     },
     "execution_count": 45,
     "metadata": {},
     "output_type": "execute_result"
    }
   ],
   "source": [
    "# Summary statistics for all numerical features\n",
    "features_clientes.describe()"
   ]
  },
  {
   "cell_type": "code",
   "execution_count": 46,
   "id": "5670545e-6155-472b-ad2c-e57f7ef0dd93",
   "metadata": {},
   "outputs": [
    {
     "data": {
      "text/html": [
       "<div>\n",
       "<style scoped>\n",
       "    .dataframe tbody tr th:only-of-type {\n",
       "        vertical-align: middle;\n",
       "    }\n",
       "\n",
       "    .dataframe tbody tr th {\n",
       "        vertical-align: top;\n",
       "    }\n",
       "\n",
       "    .dataframe thead th {\n",
       "        text-align: right;\n",
       "    }\n",
       "</style>\n",
       "<table border=\"1\" class=\"dataframe\">\n",
       "  <thead>\n",
       "    <tr style=\"text-align: right;\">\n",
       "      <th></th>\n",
       "      <th>Client ID</th>\n",
       "      <th>n_transactions</th>\n",
       "      <th>n_unique_products</th>\n",
       "      <th>n_unique_categories</th>\n",
       "      <th>last_purchase</th>\n",
       "      <th>first_purchase</th>\n",
       "      <th>days_as_client</th>\n",
       "      <th>days_since_last_purchase</th>\n",
       "    </tr>\n",
       "  </thead>\n",
       "  <tbody>\n",
       "    <tr>\n",
       "      <th>334</th>\n",
       "      <td>210103651</td>\n",
       "      <td>13274</td>\n",
       "      <td>741</td>\n",
       "      <td>142</td>\n",
       "      <td>2022-12-09 00:00:00</td>\n",
       "      <td>2022-02-10 00:00:00</td>\n",
       "      <td>1172</td>\n",
       "      <td>870</td>\n",
       "    </tr>\n",
       "    <tr>\n",
       "      <th>1281</th>\n",
       "      <td>210106090</td>\n",
       "      <td>12700</td>\n",
       "      <td>976</td>\n",
       "      <td>164</td>\n",
       "      <td>2022-12-11 00:00:00</td>\n",
       "      <td>2022-03-13 00:00:00</td>\n",
       "      <td>1141</td>\n",
       "      <td>868</td>\n",
       "    </tr>\n",
       "    <tr>\n",
       "      <th>271</th>\n",
       "      <td>210103361</td>\n",
       "      <td>11438</td>\n",
       "      <td>785</td>\n",
       "      <td>142</td>\n",
       "      <td>2022-12-05 00:00:00</td>\n",
       "      <td>2022-03-23 00:00:00</td>\n",
       "      <td>1131</td>\n",
       "      <td>874</td>\n",
       "    </tr>\n",
       "    <tr>\n",
       "      <th>933</th>\n",
       "      <td>210105456</td>\n",
       "      <td>9497</td>\n",
       "      <td>799</td>\n",
       "      <td>134</td>\n",
       "      <td>2022-12-03 00:00:00</td>\n",
       "      <td>2022-03-23 00:00:00</td>\n",
       "      <td>1131</td>\n",
       "      <td>876</td>\n",
       "    </tr>\n",
       "    <tr>\n",
       "      <th>809</th>\n",
       "      <td>210105096</td>\n",
       "      <td>8674</td>\n",
       "      <td>499</td>\n",
       "      <td>109</td>\n",
       "      <td>2022-12-06 00:00:00</td>\n",
       "      <td>2022-01-13 00:00:00</td>\n",
       "      <td>1200</td>\n",
       "      <td>873</td>\n",
       "    </tr>\n",
       "    <tr>\n",
       "      <th>546</th>\n",
       "      <td>210104260</td>\n",
       "      <td>7731</td>\n",
       "      <td>637</td>\n",
       "      <td>127</td>\n",
       "      <td>2022-12-26 00:00:00</td>\n",
       "      <td>2022-01-15 00:00:00</td>\n",
       "      <td>1198</td>\n",
       "      <td>853</td>\n",
       "    </tr>\n",
       "    <tr>\n",
       "      <th>557</th>\n",
       "      <td>210104277</td>\n",
       "      <td>7212</td>\n",
       "      <td>605</td>\n",
       "      <td>126</td>\n",
       "      <td>2022-11-26 00:00:00</td>\n",
       "      <td>2022-03-05 00:00:00</td>\n",
       "      <td>1149</td>\n",
       "      <td>883</td>\n",
       "    </tr>\n",
       "    <tr>\n",
       "      <th>349</th>\n",
       "      <td>210103678</td>\n",
       "      <td>6562</td>\n",
       "      <td>507</td>\n",
       "      <td>109</td>\n",
       "      <td>2022-11-23 00:00:00</td>\n",
       "      <td>2022-03-06 00:00:00</td>\n",
       "      <td>1148</td>\n",
       "      <td>886</td>\n",
       "    </tr>\n",
       "    <tr>\n",
       "      <th>232</th>\n",
       "      <td>210103141</td>\n",
       "      <td>6524</td>\n",
       "      <td>486</td>\n",
       "      <td>117</td>\n",
       "      <td>2022-12-09 00:00:00</td>\n",
       "      <td>2022-03-13 00:00:00</td>\n",
       "      <td>1141</td>\n",
       "      <td>870</td>\n",
       "    </tr>\n",
       "    <tr>\n",
       "      <th>355</th>\n",
       "      <td>210103706</td>\n",
       "      <td>5889</td>\n",
       "      <td>325</td>\n",
       "      <td>90</td>\n",
       "      <td>2022-12-30 00:00:00</td>\n",
       "      <td>2022-01-03 00:00:00</td>\n",
       "      <td>1210</td>\n",
       "      <td>849</td>\n",
       "    </tr>\n",
       "  </tbody>\n",
       "</table>\n",
       "</div>"
      ],
      "text/plain": [
       "      Client ID  n_transactions  n_unique_products  n_unique_categories  \\\n",
       "334   210103651           13274                741                  142   \n",
       "1281  210106090           12700                976                  164   \n",
       "271   210103361           11438                785                  142   \n",
       "933   210105456            9497                799                  134   \n",
       "809   210105096            8674                499                  109   \n",
       "546   210104260            7731                637                  127   \n",
       "557   210104277            7212                605                  126   \n",
       "349   210103678            6562                507                  109   \n",
       "232   210103141            6524                486                  117   \n",
       "355   210103706            5889                325                   90   \n",
       "\n",
       "            last_purchase       first_purchase  days_as_client  \\\n",
       "334   2022-12-09 00:00:00  2022-02-10 00:00:00            1172   \n",
       "1281  2022-12-11 00:00:00  2022-03-13 00:00:00            1141   \n",
       "271   2022-12-05 00:00:00  2022-03-23 00:00:00            1131   \n",
       "933   2022-12-03 00:00:00  2022-03-23 00:00:00            1131   \n",
       "809   2022-12-06 00:00:00  2022-01-13 00:00:00            1200   \n",
       "546   2022-12-26 00:00:00  2022-01-15 00:00:00            1198   \n",
       "557   2022-11-26 00:00:00  2022-03-05 00:00:00            1149   \n",
       "349   2022-11-23 00:00:00  2022-03-06 00:00:00            1148   \n",
       "232   2022-12-09 00:00:00  2022-03-13 00:00:00            1141   \n",
       "355   2022-12-30 00:00:00  2022-01-03 00:00:00            1210   \n",
       "\n",
       "      days_since_last_purchase  \n",
       "334                        870  \n",
       "1281                       868  \n",
       "271                        874  \n",
       "933                        876  \n",
       "809                        873  \n",
       "546                        853  \n",
       "557                        883  \n",
       "349                        886  \n",
       "232                        870  \n",
       "355                        849  "
      ]
     },
     "execution_count": 46,
     "metadata": {},
     "output_type": "execute_result"
    }
   ],
   "source": [
    "# Clients with most transactions\n",
    "features_clientes.sort_values('n_transactions', ascending=False).head(10)"
   ]
  },
  {
   "cell_type": "code",
   "execution_count": 47,
   "id": "28ad939b-68a3-422e-aca2-962622780380",
   "metadata": {},
   "outputs": [
    {
     "data": {
      "text/plain": [
       "104"
      ]
     },
     "execution_count": 47,
     "metadata": {},
     "output_type": "execute_result"
    }
   ],
   "source": [
    "# Clients with more than 2000 transactions\n",
    "(features_clientes['n_transactions'] > 2000).sum()"
   ]
  },
  {
   "cell_type": "code",
   "execution_count": 48,
   "id": "f2a18333-fb02-4de3-bf49-cfc42955c703",
   "metadata": {},
   "outputs": [
    {
     "data": {
      "image/png": "[encoded data removed]",
      "text/plain": [
       "<Figure size 800x400 with 1 Axes>"
      ]
     },
     "metadata": {},
     "output_type": "display_data"
    }
   ],
   "source": [
    "plt.figure(figsize=(8, 4))\n",
    "sns.histplot(features_clientes['n_transactions'], bins=50, kde=True)\n",
    "plt.xlim(0, 1000)  \n",
    "plt.title('Distribution of Number of Transactions per Client')\n",
    "plt.xlabel('Number of Transactions')\n",
    "plt.ylabel('Frequency')\n",
    "plt.show()\n",
    "\n"
   ]
  },
  {
   "cell_type": "code",
   "execution_count": 62,
   "id": "1889a374",
   "metadata": {},
   "outputs": [],
   "source": [
    "transactions_with_products = transactions_df.merge(products_df, on='ID Product', how='left')\n"
   ]
  },
  {
   "cell_type": "markdown",
   "id": "96ac7012",
   "metadata": {},
   "source": [
    " oq posso fazer mais: Enriquecer ainda mais o Perfil do Cliente\n",
    "Criar novas métricas a partir das transações, por exemplo:\n",
    "Categoria favorita de cada cliente.\n",
    "Número de categorias diferentes que cada cliente compra.\n",
    "Produto mais comprado por cliente."
   ]
  }
 ],
 "metadata": {
  "kernelspec": {
   "display_name": "base",
   "language": "python",
   "name": "python3"
  },
  "language_info": {
   "codemirror_mode": {
    "name": "ipython",
    "version": 3
   },
   "file_extension": ".py",
   "mimetype": "text/x-python",
   "name": "python",
   "nbconvert_exporter": "python",
   "pygments_lexer": "ipython3",
   "version": "3.12.2"
  }
 },
 "nbformat": 4,
 "nbformat_minor": 5
}
